{
 "cells": [
  {
   "cell_type": "markdown",
   "metadata": {},
   "source": [
    "# Module 3 - Update Feature Group (Optional notebook)\n",
    "### Module 1 is a pre-requisite for this notebook.\n",
    "\n",
    "**Note:** Please set kernel to `Python 3 (Data Science)` and select instance to `ml.t3.medium`\n",
    "\n",
    "---\n",
    "\n",
    "## Contents\n",
    "\n",
    "1. [Setup](#setup)\n",
    "1. [Explore existing customer feature group and data](#explore-customer-fg)\n",
    "1. [Update customer feature group](#update-customer-fg)\n",
    "1. [Ingest data into customer feature group](#ingest-customer-fg)\n",
    "1. [Prepare training data set to retrain model](#model-training-data)\n",
    "1. [Retrain XG Boost model](#retrain-xg-boost)\n",
    "1. [Test model performance against test data](#real-time-inference)\n",
    "\n",
    "---\n",
    "\n",
    "In this notebook, we will illustrate how to modify a feature group using boto3 API and then ingest data into modified feature group. We will cover the following aspects:\n",
    "\n",
    "* Look at existing data from customer feature group\n",
    "* Modify customer feature group to add \"has_kids\" feature and ingest sample data\n",
    "* Verify for a customer record that data has been ingested\n",
    "* Athena query for dataset extraction to prepare data set for retraining(programmatically using SageMaker SDK)\n",
    "* Retrain an XGBoost model similar to what we did in the notebook `m3_nb1_model_training.ipynb`\n",
    "* Test by deploying the model and predicting against a sample test record\n",
    "* Cleanup resources\n",
    "\n"
   ]
  },
  {
   "cell_type": "markdown",
   "metadata": {},
   "source": [
    "## Setup\n",
    "<a id='setup'></a>"
   ]
  },
  {
   "cell_type": "code",
   "execution_count": 2,
   "metadata": {
    "tags": []
   },
   "outputs": [],
   "source": [
    "from sagemaker.feature_store.feature_group import FeatureGroup\n",
    "from sagemaker.serializers import CSVSerializer\n",
    "from sagemaker.inputs import TrainingInput\n",
    "from sagemaker.predictor import Predictor\n",
    "from datetime import datetime, timezone, date\n",
    "from random import randint\n",
    "import pandas as pd\n",
    "import numpy as np\n",
    "import subprocess\n",
    "import sagemaker\n",
    "import importlib\n",
    "import logging\n",
    "import time\n",
    "import sys\n",
    "import boto3\n",
    "import os\n",
    "sys.path.append('..')\n",
    "from utilities import Utils"
   ]
  },
  {
   "cell_type": "code",
   "execution_count": 3,
   "metadata": {
    "tags": []
   },
   "outputs": [],
   "source": [
    "if sagemaker.__version__ < '2.48.1':\n",
    "    subprocess.check_call([sys.executable, '-m', 'pip', 'install', 'sagemaker==2.48.1'])\n",
    "    importlib.reload(sagemaker)"
   ]
  },
  {
   "cell_type": "code",
   "execution_count": 4,
   "metadata": {
    "tags": []
   },
   "outputs": [],
   "source": [
    "if boto3.__version__ < '1.24.23':\n",
    "    subprocess.check_call([sys.executable, '-m', 'pip', 'install', 'boto3==1.24.23'])\n",
    "    importlib.reload(boto3)"
   ]
  },
  {
   "cell_type": "code",
   "execution_count": 5,
   "metadata": {
    "tags": []
   },
   "outputs": [],
   "source": [
    "logger = logging.getLogger('__name__')\n",
    "logger.setLevel(logging.DEBUG)\n",
    "logger.addHandler(logging.StreamHandler())"
   ]
  },
  {
   "cell_type": "code",
   "execution_count": 6,
   "metadata": {
    "tags": []
   },
   "outputs": [
    {
     "name": "stderr",
     "output_type": "stream",
     "text": [
      "Using SageMaker version: 2.48.1\n",
      "Using Pandas version: 1.3.5\n",
      "Using boto3 version: 1.26.111\n"
     ]
    }
   ],
   "source": [
    "logger.info(f'Using SageMaker version: {sagemaker.__version__}')\n",
    "logger.info(f'Using Pandas version: {pd.__version__}')\n",
    "logger.info(f'Using boto3 version: {boto3.__version__}')"
   ]
  },
  {
   "cell_type": "code",
   "execution_count": 7,
   "metadata": {
    "tags": []
   },
   "outputs": [],
   "source": [
    "import pprint\n",
    "pretty_printer = pprint.PrettyPrinter(indent=4)"
   ]
  },
  {
   "cell_type": "code",
   "execution_count": 8,
   "metadata": {
    "tags": []
   },
   "outputs": [
    {
     "name": "stdout",
     "output_type": "stream",
     "text": [
      "mkdir: cannot create directory ‘./data/retrain’: File exists\n"
     ]
    }
   ],
   "source": [
    "!mkdir ./data/retrain"
   ]
  },
  {
   "cell_type": "markdown",
   "metadata": {},
   "source": [
    "## Essentials"
   ]
  },
  {
   "cell_type": "code",
   "execution_count": 9,
   "metadata": {
    "tags": []
   },
   "outputs": [
    {
     "name": "stderr",
     "output_type": "stream",
     "text": [
      "Default S3 bucket = sagemaker-us-east-1-161615149547\n"
     ]
    }
   ],
   "source": [
    "sagemaker_session = sagemaker.Session()\n",
    "role = sagemaker.get_execution_role()\n",
    "default_bucket = sagemaker_session.default_bucket()\n",
    "logger.info(f'Default S3 bucket = {default_bucket}')\n",
    "prefix = 'sagemaker-feature-store'"
   ]
  },
  {
   "cell_type": "code",
   "execution_count": 10,
   "metadata": {
    "tags": []
   },
   "outputs": [],
   "source": [
    "region = sagemaker_session.boto_region_name"
   ]
  },
  {
   "cell_type": "code",
   "execution_count": 11,
   "metadata": {
    "tags": []
   },
   "outputs": [],
   "source": [
    "boto_session = boto3.Session(region_name=region)\n",
    "sagemaker_runtime = boto_session.client(service_name='sagemaker', region_name=region)\n",
    "featurestore_runtime = boto_session.client(service_name='sagemaker-featurestore-runtime', region_name=region)\n",
    "s3 = boto_session.resource('s3')\n"
   ]
  },
  {
   "cell_type": "code",
   "execution_count": 12,
   "metadata": {
    "tags": []
   },
   "outputs": [],
   "source": [
    "def generate_event_timestamp():\n",
    "    # naive datetime representing local time\n",
    "    naive_dt = datetime.now()\n",
    "    # take timezone into account\n",
    "    aware_dt = naive_dt.astimezone()\n",
    "    # time in UTC\n",
    "    utc_dt = aware_dt.astimezone(timezone.utc)\n",
    "    # transform to ISO-8601 format\n",
    "    event_time = utc_dt.isoformat(timespec='milliseconds')\n",
    "    event_time = event_time.replace('+00:00', 'Z')\n",
    "    return event_time"
   ]
  },
  {
   "cell_type": "markdown",
   "metadata": {},
   "source": [
    "### Explore existing feature definition and the data set\n",
    "<a id='explore-customer-fg'></a>"
   ]
  },
  {
   "cell_type": "markdown",
   "metadata": {},
   "source": [
    "Retrieve variables stored in previous notebooks for feature group names"
   ]
  },
  {
   "cell_type": "code",
   "execution_count": 13,
   "metadata": {
    "tags": []
   },
   "outputs": [
    {
     "name": "stderr",
     "output_type": "stream",
     "text": [
      "Customers FG: fscw-customers-05-22-21-52\n",
      "Products FG: fscw-products-05-22-21-52\n",
      "Orders FG: fscw-orders-05-22-21-52\n"
     ]
    }
   ],
   "source": [
    "# Retreive FG names\n",
    "%store -r customers_feature_group_name\n",
    "%store -r products_feature_group_name\n",
    "%store -r orders_feature_group_name\n",
    "logger.info(f'Customers FG: {customers_feature_group_name}')\n",
    "logger.info(f'Products FG: {products_feature_group_name}')\n",
    "logger.info(f'Orders FG: {orders_feature_group_name}')"
   ]
  },
  {
   "cell_type": "code",
   "execution_count": 14,
   "metadata": {
    "tags": []
   },
   "outputs": [],
   "source": [
    "customers_fg = FeatureGroup(name=customers_feature_group_name, sagemaker_session=sagemaker_session)  \n",
    "products_fg = FeatureGroup(name=products_feature_group_name, sagemaker_session=sagemaker_session)\n",
    "orders_fg = FeatureGroup(name=orders_feature_group_name, sagemaker_session=sagemaker_session)"
   ]
  },
  {
   "cell_type": "markdown",
   "metadata": {},
   "source": [
    "Verify record exists in Customer Feature Group for a random customer_id"
   ]
  },
  {
   "cell_type": "code",
   "execution_count": 15,
   "metadata": {
    "tags": []
   },
   "outputs": [
    {
     "name": "stderr",
     "output_type": "stream",
     "text": [
      "customer_id=C4346\n"
     ]
    }
   ],
   "source": [
    "customer_id =  f'C{randint(1, 10000)}'\n",
    "logger.info(f'customer_id={customer_id}') "
   ]
  },
  {
   "cell_type": "code",
   "execution_count": 16,
   "metadata": {
    "tags": []
   },
   "outputs": [
    {
     "data": {
      "text/plain": [
       "{'ResponseMetadata': {'RequestId': '60552487-ef3a-46b0-8a31-8b29ac604f32',\n",
       "  'HTTPStatusCode': 200,\n",
       "  'HTTPHeaders': {'x-amzn-requestid': '60552487-ef3a-46b0-8a31-8b29ac604f32',\n",
       "   'content-type': 'application/json',\n",
       "   'content-length': '604',\n",
       "   'date': 'Mon, 22 May 2023 22:06:45 GMT'},\n",
       "  'RetryAttempts': 0},\n",
       " 'Record': [{'FeatureName': 'customer_id', 'ValueAsString': 'C4346'},\n",
       "  {'FeatureName': 'sex', 'ValueAsString': '1'},\n",
       "  {'FeatureName': 'is_married', 'ValueAsString': '1'},\n",
       "  {'FeatureName': 'event_time', 'ValueAsString': '2023-05-22T14:15:56.615Z'},\n",
       "  {'FeatureName': 'age_18-29', 'ValueAsString': '0'},\n",
       "  {'FeatureName': 'age_30-39', 'ValueAsString': '0'},\n",
       "  {'FeatureName': 'age_40-49', 'ValueAsString': '0'},\n",
       "  {'FeatureName': 'age_50-59', 'ValueAsString': '0'},\n",
       "  {'FeatureName': 'age_60-69', 'ValueAsString': '0'},\n",
       "  {'FeatureName': 'age_70-plus', 'ValueAsString': '1'},\n",
       "  {'FeatureName': 'n_days_active', 'ValueAsString': '0.821917808219178'}]}"
      ]
     },
     "execution_count": 16,
     "metadata": {},
     "output_type": "execute_result"
    }
   ],
   "source": [
    "feature_record = featurestore_runtime.get_record(FeatureGroupName=customers_feature_group_name, \n",
    "                                                        RecordIdentifierValueAsString=customer_id)\n",
    "feature_record"
   ]
  },
  {
   "cell_type": "code",
   "execution_count": 17,
   "metadata": {
    "tags": []
   },
   "outputs": [
    {
     "name": "stdout",
     "output_type": "stream",
     "text": [
      "{   'CreatedBy': {   'DomainId': 'd-wguoldosy9tn',\n",
      "                     'UserProfileArn': 'arn:aws:sagemaker:us-east-1:161615149547:user-profile/d-wguoldosy9tn/default-1679523110579',\n",
      "                     'UserProfileName': 'default-1679523110579'},\n",
      "    'CreationTime': datetime.datetime(2023, 5, 22, 21, 52, 50, 492000, tzinfo=tzlocal()),\n",
      "    'EventTimeFeatureName': 'event_time',\n",
      "    'FeatureDefinitions': [   {   'FeatureName': 'customer_id',\n",
      "                                  'FeatureType': 'String'},\n",
      "                              {'FeatureName': 'sex', 'FeatureType': 'Integral'},\n",
      "                              {   'FeatureName': 'is_married',\n",
      "                                  'FeatureType': 'Integral'},\n",
      "                              {   'FeatureName': 'event_time',\n",
      "                                  'FeatureType': 'String'},\n",
      "                              {   'FeatureName': 'age_18-29',\n",
      "                                  'FeatureType': 'Integral'},\n",
      "                              {   'FeatureName': 'age_30-39',\n",
      "                                  'FeatureType': 'Integral'},\n",
      "                              {   'FeatureName': 'age_40-49',\n",
      "                                  'FeatureType': 'Integral'},\n",
      "                              {   'FeatureName': 'age_50-59',\n",
      "                                  'FeatureType': 'Integral'},\n",
      "                              {   'FeatureName': 'age_60-69',\n",
      "                                  'FeatureType': 'Integral'},\n",
      "                              {   'FeatureName': 'age_70-plus',\n",
      "                                  'FeatureType': 'Integral'},\n",
      "                              {   'FeatureName': 'n_days_active',\n",
      "                                  'FeatureType': 'Fractional'}],\n",
      "    'FeatureGroupArn': 'arn:aws:sagemaker:us-east-1:161615149547:feature-group/fscw-customers-05-22-21-52',\n",
      "    'FeatureGroupName': 'fscw-customers-05-22-21-52',\n",
      "    'FeatureGroupStatus': 'Created',\n",
      "    'LastModifiedBy': {   'DomainId': 'd-wguoldosy9tn',\n",
      "                          'UserProfileArn': 'arn:aws:sagemaker:us-east-1:161615149547:user-profile/d-wguoldosy9tn/default-1679523110579',\n",
      "                          'UserProfileName': 'default-1679523110579'},\n",
      "    'OfflineStoreConfig': {   'DataCatalogConfig': {   'Catalog': 'AwsDataCatalog',\n",
      "                                                       'Database': 'SageMaker_FeatureStore',\n",
      "                                                       'TableName': 'fscw_customers_05_22_21_52_1684792370'},\n",
      "                              'DisableGlueTableCreation': False,\n",
      "                              'S3StorageConfig': {   'ResolvedOutputS3Uri': 's3://sagemaker-us-east-1-161615149547/sagemaker-feature-store/161615149547/sagemaker/us-east-1/offline-store/fscw-customers-05-22-21-52-1684792370/data',\n",
      "                                                     'S3Uri': 's3://sagemaker-us-east-1-161615149547/sagemaker-feature-store'},\n",
      "                              'TableFormat': 'Iceberg'},\n",
      "    'OfflineStoreStatus': {'Status': 'Active'},\n",
      "    'OnlineStoreConfig': {'EnableOnlineStore': True},\n",
      "    'OnlineStoreReadWriteType': 'ReadWrite',\n",
      "    'OnlineStoreReplicas': [],\n",
      "    'OnlineStoreTotalItemCount': 0,\n",
      "    'OnlineStoreTotalSizeBytes': 0,\n",
      "    'RecordIdentifierFeatureName': 'customer_id',\n",
      "    'ResponseMetadata': {   'HTTPHeaders': {   'content-length': '2099',\n",
      "                                               'content-type': 'application/x-amz-json-1.1',\n",
      "                                               'date': 'Mon, 22 May 2023 '\n",
      "                                                       '22:06:46 GMT',\n",
      "                                               'x-amzn-requestid': 'a9f1b28d-efc6-4651-8179-b0156f5f2b3b'},\n",
      "                            'HTTPStatusCode': 200,\n",
      "                            'RequestId': 'a9f1b28d-efc6-4651-8179-b0156f5f2b3b',\n",
      "                            'RetryAttempts': 0},\n",
      "    'RoleArn': 'arn:aws:iam::161615149547:role/service-role/AmazonSageMakerServiceCatalogProductsExecutionRole'}\n"
     ]
    }
   ],
   "source": [
    "describe_feature_group_result = sagemaker_runtime.describe_feature_group(\n",
    "    FeatureGroupName=customers_feature_group_name\n",
    ")\n",
    "pretty_printer.pprint(describe_feature_group_result)"
   ]
  },
  {
   "cell_type": "markdown",
   "metadata": {},
   "source": [
    "### Update feature group and ingest data\n",
    "<a id='update-customer-fg' />"
   ]
  },
  {
   "cell_type": "markdown",
   "metadata": {},
   "source": [
    "The sample product set that we have are spread out across different categories - baby products, candies, cleaning products etc. So let us assume that a customer *“having kids or not”* is defintely an indicator of them buying baby and kids products. Lets go ahead and modify the customer feature group to add this new feature."
   ]
  },
  {
   "cell_type": "code",
   "execution_count": 18,
   "metadata": {
    "tags": []
   },
   "outputs": [
    {
     "data": {
      "text/plain": [
       "{'FeatureGroupArn': 'arn:aws:sagemaker:us-east-1:161615149547:feature-group/fscw-customers-05-22-21-52',\n",
       " 'ResponseMetadata': {'RequestId': 'b326c1d0-46c0-4fb6-858c-52a252c161ad',\n",
       "  'HTTPStatusCode': 200,\n",
       "  'HTTPHeaders': {'x-amzn-requestid': 'b326c1d0-46c0-4fb6-858c-52a252c161ad',\n",
       "   'content-type': 'application/x-amz-json-1.1',\n",
       "   'content-length': '103',\n",
       "   'date': 'Mon, 22 May 2023 22:06:48 GMT'},\n",
       "  'RetryAttempts': 0}}"
      ]
     },
     "execution_count": 18,
     "metadata": {},
     "output_type": "execute_result"
    }
   ],
   "source": [
    "# Call UpdateFeatureGroup with feature addition(s)\n",
    "sagemaker_runtime.update_feature_group(\n",
    "    FeatureGroupName=customers_feature_group_name,\n",
    "    FeatureAdditions=[\n",
    "        {\"FeatureName\": \"has_kids\", \"FeatureType\": \"Integral\"}\n",
    "    ]\n",
    ")"
   ]
  },
  {
   "cell_type": "markdown",
   "metadata": {},
   "source": [
    "We have a sleep set for 60 seconds because the update operation could take a minute."
   ]
  },
  {
   "cell_type": "code",
   "execution_count": 19,
   "metadata": {
    "tags": []
   },
   "outputs": [],
   "source": [
    "time.sleep(60)"
   ]
  },
  {
   "cell_type": "code",
   "execution_count": 20,
   "metadata": {
    "tags": []
   },
   "outputs": [
    {
     "name": "stdout",
     "output_type": "stream",
     "text": [
      "{   'CreatedBy': {   'DomainId': 'd-wguoldosy9tn',\n",
      "                     'UserProfileArn': 'arn:aws:sagemaker:us-east-1:161615149547:user-profile/d-wguoldosy9tn/default-1679523110579',\n",
      "                     'UserProfileName': 'default-1679523110579'},\n",
      "    'CreationTime': datetime.datetime(2023, 5, 22, 21, 52, 50, 492000, tzinfo=tzlocal()),\n",
      "    'EventTimeFeatureName': 'event_time',\n",
      "    'FeatureDefinitions': [   {   'FeatureName': 'customer_id',\n",
      "                                  'FeatureType': 'String'},\n",
      "                              {'FeatureName': 'sex', 'FeatureType': 'Integral'},\n",
      "                              {   'FeatureName': 'is_married',\n",
      "                                  'FeatureType': 'Integral'},\n",
      "                              {   'FeatureName': 'event_time',\n",
      "                                  'FeatureType': 'String'},\n",
      "                              {   'FeatureName': 'age_18-29',\n",
      "                                  'FeatureType': 'Integral'},\n",
      "                              {   'FeatureName': 'age_30-39',\n",
      "                                  'FeatureType': 'Integral'},\n",
      "                              {   'FeatureName': 'age_40-49',\n",
      "                                  'FeatureType': 'Integral'},\n",
      "                              {   'FeatureName': 'age_50-59',\n",
      "                                  'FeatureType': 'Integral'},\n",
      "                              {   'FeatureName': 'age_60-69',\n",
      "                                  'FeatureType': 'Integral'},\n",
      "                              {   'FeatureName': 'age_70-plus',\n",
      "                                  'FeatureType': 'Integral'},\n",
      "                              {   'FeatureName': 'n_days_active',\n",
      "                                  'FeatureType': 'Fractional'},\n",
      "                              {   'FeatureName': 'has_kids',\n",
      "                                  'FeatureType': 'Integral'}],\n",
      "    'FeatureGroupArn': 'arn:aws:sagemaker:us-east-1:161615149547:feature-group/fscw-customers-05-22-21-52',\n",
      "    'FeatureGroupName': 'fscw-customers-05-22-21-52',\n",
      "    'FeatureGroupStatus': 'Created',\n",
      "    'LastModifiedBy': {   'DomainId': 'd-wguoldosy9tn',\n",
      "                          'UserProfileArn': 'arn:aws:sagemaker:us-east-1:161615149547:user-profile/d-wguoldosy9tn/default-1679523110579',\n",
      "                          'UserProfileName': 'default-1679523110579'},\n",
      "    'LastModifiedTime': datetime.datetime(2023, 5, 22, 22, 6, 48, 410000, tzinfo=tzlocal()),\n",
      "    'LastUpdateStatus': {'Status': 'Successful'},\n",
      "    'OfflineStoreConfig': {   'DataCatalogConfig': {   'Catalog': 'AwsDataCatalog',\n",
      "                                                       'Database': 'SageMaker_FeatureStore',\n",
      "                                                       'TableName': 'fscw_customers_05_22_21_52_1684792370'},\n",
      "                              'DisableGlueTableCreation': False,\n",
      "                              'S3StorageConfig': {   'ResolvedOutputS3Uri': 's3://sagemaker-us-east-1-161615149547/sagemaker-feature-store/161615149547/sagemaker/us-east-1/offline-store/fscw-customers-05-22-21-52-1684792370/data',\n",
      "                                                     'S3Uri': 's3://sagemaker-us-east-1-161615149547/sagemaker-feature-store'},\n",
      "                              'TableFormat': 'Iceberg'},\n",
      "    'OfflineStoreStatus': {'Status': 'Active'},\n",
      "    'OnlineStoreConfig': {'EnableOnlineStore': True},\n",
      "    'OnlineStoreReadWriteType': 'ReadWrite',\n",
      "    'OnlineStoreReplicas': [],\n",
      "    'OnlineStoreTotalItemCount': 0,\n",
      "    'OnlineStoreTotalSizeBytes': 0,\n",
      "    'RecordIdentifierFeatureName': 'customer_id',\n",
      "    'ResponseMetadata': {   'HTTPHeaders': {   'content-length': '2229',\n",
      "                                               'content-type': 'application/x-amz-json-1.1',\n",
      "                                               'date': 'Mon, 22 May 2023 '\n",
      "                                                       '22:07:49 GMT',\n",
      "                                               'x-amzn-requestid': '4d8d13a5-a657-4b16-8103-7584dadfb6ef'},\n",
      "                            'HTTPStatusCode': 200,\n",
      "                            'RequestId': '4d8d13a5-a657-4b16-8103-7584dadfb6ef',\n",
      "                            'RetryAttempts': 0},\n",
      "    'RoleArn': 'arn:aws:iam::161615149547:role/service-role/AmazonSageMakerServiceCatalogProductsExecutionRole'}\n"
     ]
    }
   ],
   "source": [
    "describe_feature_group_result = sagemaker_runtime.describe_feature_group(\n",
    "    FeatureGroupName=customers_feature_group_name\n",
    ")\n",
    "pretty_printer.pprint(describe_feature_group_result)"
   ]
  },
  {
   "cell_type": "markdown",
   "metadata": {},
   "source": [
    "### Prepare \"has_kids\" feature data and ingest data again into customer feature group. \n",
    "<a id='ingest-customer-fg' />"
   ]
  },
  {
   "cell_type": "markdown",
   "metadata": {},
   "source": [
    "Verify that the feature is added to feature group before proceeding with this step. We retrieve the customer data from the csv and randomly generate 0 or 1 for \"has_kids\" feature and ingest into feature group"
   ]
  },
  {
   "cell_type": "code",
   "execution_count": 21,
   "metadata": {
    "tags": []
   },
   "outputs": [
    {
     "data": {
      "text/html": [
       "<div>\n",
       "<style scoped>\n",
       "    .dataframe tbody tr th:only-of-type {\n",
       "        vertical-align: middle;\n",
       "    }\n",
       "\n",
       "    .dataframe tbody tr th {\n",
       "        vertical-align: top;\n",
       "    }\n",
       "\n",
       "    .dataframe thead th {\n",
       "        text-align: right;\n",
       "    }\n",
       "</style>\n",
       "<table border=\"1\" class=\"dataframe\">\n",
       "  <thead>\n",
       "    <tr style=\"text-align: right;\">\n",
       "      <th></th>\n",
       "      <th>customer_id</th>\n",
       "      <th>sex</th>\n",
       "      <th>is_married</th>\n",
       "      <th>event_time</th>\n",
       "      <th>age_18-29</th>\n",
       "      <th>age_30-39</th>\n",
       "      <th>age_40-49</th>\n",
       "      <th>age_50-59</th>\n",
       "      <th>age_60-69</th>\n",
       "      <th>age_70-plus</th>\n",
       "      <th>n_days_active</th>\n",
       "    </tr>\n",
       "  </thead>\n",
       "  <tbody>\n",
       "    <tr>\n",
       "      <th>0</th>\n",
       "      <td>C1</td>\n",
       "      <td>0</td>\n",
       "      <td>0</td>\n",
       "      <td>2023-05-22T14:15:48.008Z</td>\n",
       "      <td>0</td>\n",
       "      <td>0</td>\n",
       "      <td>0</td>\n",
       "      <td>1</td>\n",
       "      <td>0</td>\n",
       "      <td>0</td>\n",
       "      <td>0.026027</td>\n",
       "    </tr>\n",
       "    <tr>\n",
       "      <th>1</th>\n",
       "      <td>C2</td>\n",
       "      <td>1</td>\n",
       "      <td>0</td>\n",
       "      <td>2023-05-22T14:15:48.010Z</td>\n",
       "      <td>1</td>\n",
       "      <td>0</td>\n",
       "      <td>0</td>\n",
       "      <td>0</td>\n",
       "      <td>0</td>\n",
       "      <td>0</td>\n",
       "      <td>0.077397</td>\n",
       "    </tr>\n",
       "    <tr>\n",
       "      <th>2</th>\n",
       "      <td>C3</td>\n",
       "      <td>0</td>\n",
       "      <td>1</td>\n",
       "      <td>2023-05-22T14:15:48.013Z</td>\n",
       "      <td>0</td>\n",
       "      <td>0</td>\n",
       "      <td>0</td>\n",
       "      <td>0</td>\n",
       "      <td>1</td>\n",
       "      <td>0</td>\n",
       "      <td>0.821233</td>\n",
       "    </tr>\n",
       "    <tr>\n",
       "      <th>3</th>\n",
       "      <td>C4</td>\n",
       "      <td>1</td>\n",
       "      <td>1</td>\n",
       "      <td>2023-05-22T14:15:48.015Z</td>\n",
       "      <td>0</td>\n",
       "      <td>0</td>\n",
       "      <td>0</td>\n",
       "      <td>1</td>\n",
       "      <td>0</td>\n",
       "      <td>0</td>\n",
       "      <td>0.887671</td>\n",
       "    </tr>\n",
       "    <tr>\n",
       "      <th>4</th>\n",
       "      <td>C5</td>\n",
       "      <td>0</td>\n",
       "      <td>1</td>\n",
       "      <td>2023-05-22T14:15:48.017Z</td>\n",
       "      <td>0</td>\n",
       "      <td>1</td>\n",
       "      <td>0</td>\n",
       "      <td>0</td>\n",
       "      <td>0</td>\n",
       "      <td>0</td>\n",
       "      <td>0.265753</td>\n",
       "    </tr>\n",
       "  </tbody>\n",
       "</table>\n",
       "</div>"
      ],
      "text/plain": [
       "  customer_id  sex  is_married                event_time  age_18-29  \\\n",
       "0          C1    0           0  2023-05-22T14:15:48.008Z          0   \n",
       "1          C2    1           0  2023-05-22T14:15:48.010Z          1   \n",
       "2          C3    0           1  2023-05-22T14:15:48.013Z          0   \n",
       "3          C4    1           1  2023-05-22T14:15:48.015Z          0   \n",
       "4          C5    0           1  2023-05-22T14:15:48.017Z          0   \n",
       "\n",
       "   age_30-39  age_40-49  age_50-59  age_60-69  age_70-plus  n_days_active  \n",
       "0          0          0          1          0            0       0.026027  \n",
       "1          0          0          0          0            0       0.077397  \n",
       "2          0          0          0          1            0       0.821233  \n",
       "3          0          0          1          0            0       0.887671  \n",
       "4          1          0          0          0            0       0.265753  "
      ]
     },
     "execution_count": 21,
     "metadata": {},
     "output_type": "execute_result"
    }
   ],
   "source": [
    "customers_df = pd.read_csv('./data/transformed/customers.csv')\n",
    "customers_df.head(5)"
   ]
  },
  {
   "cell_type": "markdown",
   "metadata": {},
   "source": [
    "Use the NumPy library to generate random 1s and 0s"
   ]
  },
  {
   "cell_type": "code",
   "execution_count": 22,
   "metadata": {
    "tags": []
   },
   "outputs": [],
   "source": [
    "customers_df['has_kids']=np.random.randint(0, 2, customers_df.shape[0])"
   ]
  },
  {
   "cell_type": "markdown",
   "metadata": {},
   "source": [
    "Drop the existing event time column and add current time as event time. These two steps are optional."
   ]
  },
  {
   "cell_type": "code",
   "execution_count": 23,
   "metadata": {
    "tags": []
   },
   "outputs": [],
   "source": [
    "customers_df=customers_df.drop(['event_time'],axis=1)"
   ]
  },
  {
   "cell_type": "code",
   "execution_count": 24,
   "metadata": {
    "tags": []
   },
   "outputs": [
    {
     "data": {
      "text/html": [
       "<div>\n",
       "<style scoped>\n",
       "    .dataframe tbody tr th:only-of-type {\n",
       "        vertical-align: middle;\n",
       "    }\n",
       "\n",
       "    .dataframe tbody tr th {\n",
       "        vertical-align: top;\n",
       "    }\n",
       "\n",
       "    .dataframe thead th {\n",
       "        text-align: right;\n",
       "    }\n",
       "</style>\n",
       "<table border=\"1\" class=\"dataframe\">\n",
       "  <thead>\n",
       "    <tr style=\"text-align: right;\">\n",
       "      <th></th>\n",
       "      <th>customer_id</th>\n",
       "      <th>sex</th>\n",
       "      <th>is_married</th>\n",
       "      <th>age_18-29</th>\n",
       "      <th>age_30-39</th>\n",
       "      <th>age_40-49</th>\n",
       "      <th>age_50-59</th>\n",
       "      <th>age_60-69</th>\n",
       "      <th>age_70-plus</th>\n",
       "      <th>n_days_active</th>\n",
       "      <th>has_kids</th>\n",
       "      <th>event_time</th>\n",
       "    </tr>\n",
       "  </thead>\n",
       "  <tbody>\n",
       "    <tr>\n",
       "      <th>0</th>\n",
       "      <td>C1</td>\n",
       "      <td>0</td>\n",
       "      <td>0</td>\n",
       "      <td>0</td>\n",
       "      <td>0</td>\n",
       "      <td>0</td>\n",
       "      <td>1</td>\n",
       "      <td>0</td>\n",
       "      <td>0</td>\n",
       "      <td>0.026027</td>\n",
       "      <td>0</td>\n",
       "      <td>2023-05-22T22:07:50.082Z</td>\n",
       "    </tr>\n",
       "    <tr>\n",
       "      <th>1</th>\n",
       "      <td>C2</td>\n",
       "      <td>1</td>\n",
       "      <td>0</td>\n",
       "      <td>1</td>\n",
       "      <td>0</td>\n",
       "      <td>0</td>\n",
       "      <td>0</td>\n",
       "      <td>0</td>\n",
       "      <td>0</td>\n",
       "      <td>0.077397</td>\n",
       "      <td>0</td>\n",
       "      <td>2023-05-22T22:07:50.082Z</td>\n",
       "    </tr>\n",
       "    <tr>\n",
       "      <th>2</th>\n",
       "      <td>C3</td>\n",
       "      <td>0</td>\n",
       "      <td>1</td>\n",
       "      <td>0</td>\n",
       "      <td>0</td>\n",
       "      <td>0</td>\n",
       "      <td>0</td>\n",
       "      <td>1</td>\n",
       "      <td>0</td>\n",
       "      <td>0.821233</td>\n",
       "      <td>1</td>\n",
       "      <td>2023-05-22T22:07:50.082Z</td>\n",
       "    </tr>\n",
       "    <tr>\n",
       "      <th>3</th>\n",
       "      <td>C4</td>\n",
       "      <td>1</td>\n",
       "      <td>1</td>\n",
       "      <td>0</td>\n",
       "      <td>0</td>\n",
       "      <td>0</td>\n",
       "      <td>1</td>\n",
       "      <td>0</td>\n",
       "      <td>0</td>\n",
       "      <td>0.887671</td>\n",
       "      <td>1</td>\n",
       "      <td>2023-05-22T22:07:50.082Z</td>\n",
       "    </tr>\n",
       "    <tr>\n",
       "      <th>4</th>\n",
       "      <td>C5</td>\n",
       "      <td>0</td>\n",
       "      <td>1</td>\n",
       "      <td>0</td>\n",
       "      <td>1</td>\n",
       "      <td>0</td>\n",
       "      <td>0</td>\n",
       "      <td>0</td>\n",
       "      <td>0</td>\n",
       "      <td>0.265753</td>\n",
       "      <td>1</td>\n",
       "      <td>2023-05-22T22:07:50.082Z</td>\n",
       "    </tr>\n",
       "  </tbody>\n",
       "</table>\n",
       "</div>"
      ],
      "text/plain": [
       "  customer_id  sex  is_married  age_18-29  age_30-39  age_40-49  age_50-59  \\\n",
       "0          C1    0           0          0          0          0          1   \n",
       "1          C2    1           0          1          0          0          0   \n",
       "2          C3    0           1          0          0          0          0   \n",
       "3          C4    1           1          0          0          0          1   \n",
       "4          C5    0           1          0          1          0          0   \n",
       "\n",
       "   age_60-69  age_70-plus  n_days_active  has_kids                event_time  \n",
       "0          0            0       0.026027         0  2023-05-22T22:07:50.082Z  \n",
       "1          0            0       0.077397         0  2023-05-22T22:07:50.082Z  \n",
       "2          1            0       0.821233         1  2023-05-22T22:07:50.082Z  \n",
       "3          0            0       0.887671         1  2023-05-22T22:07:50.082Z  \n",
       "4          0            0       0.265753         1  2023-05-22T22:07:50.082Z  "
      ]
     },
     "execution_count": 24,
     "metadata": {},
     "output_type": "execute_result"
    }
   ],
   "source": [
    "event_timestamps = [generate_event_timestamp() for _ in range(len(customers_df))]\n",
    "customers_df['event_time'] = event_timestamps\n",
    "customers_df.head(5)"
   ]
  },
  {
   "cell_type": "markdown",
   "metadata": {},
   "source": [
    "Ingest the updated data into feature group. In case ingest operation throws errors regarding feature not being present in the Feature Group, give the update operation some more time as mentioned before and try the ingest again."
   ]
  },
  {
   "cell_type": "code",
   "execution_count": 64,
   "metadata": {
    "tags": []
   },
   "outputs": [
    {
     "name": "stderr",
     "output_type": "stream",
     "text": [
      "10000 customer records ingested into feature group: fscw-customers-05-22-21-52\n"
     ]
    },
    {
     "name": "stdout",
     "output_type": "stream",
     "text": [
      "CPU times: user 166 ms, sys: 194 ms, total: 359 ms\n",
      "Wall time: 17.8 s\n"
     ]
    }
   ],
   "source": [
    "%%time\n",
    "customers_fg.ingest(data_frame=customers_df, max_processes=16, wait=True)\n",
    "logger.info(f'{len(customers_df)} customer records ingested into feature group: {customers_feature_group_name}')"
   ]
  },
  {
   "cell_type": "markdown",
   "metadata": {},
   "source": [
    "Verify online store for a specific customer_id"
   ]
  },
  {
   "cell_type": "code",
   "execution_count": 65,
   "metadata": {
    "tags": []
   },
   "outputs": [
    {
     "name": "stdout",
     "output_type": "stream",
     "text": [
      "{   'Record': [   {'FeatureName': 'customer_id', 'ValueAsString': 'C4346'},\n",
      "                  {'FeatureName': 'sex', 'ValueAsString': '1'},\n",
      "                  {'FeatureName': 'is_married', 'ValueAsString': '1'},\n",
      "                  {   'FeatureName': 'event_time',\n",
      "                      'ValueAsString': '2023-05-22T22:07:50.117Z'},\n",
      "                  {'FeatureName': 'age_18-29', 'ValueAsString': '0'},\n",
      "                  {'FeatureName': 'age_30-39', 'ValueAsString': '0'},\n",
      "                  {'FeatureName': 'age_40-49', 'ValueAsString': '0'},\n",
      "                  {'FeatureName': 'age_50-59', 'ValueAsString': '0'},\n",
      "                  {'FeatureName': 'age_60-69', 'ValueAsString': '0'},\n",
      "                  {'FeatureName': 'age_70-plus', 'ValueAsString': '1'},\n",
      "                  {   'FeatureName': 'n_days_active',\n",
      "                      'ValueAsString': '0.821917808219178'},\n",
      "                  {'FeatureName': 'has_kids', 'ValueAsString': '1'}],\n",
      "    'ResponseMetadata': {   'HTTPHeaders': {   'content-length': '651',\n",
      "                                               'content-type': 'application/json',\n",
      "                                               'date': 'Mon, 22 May 2023 '\n",
      "                                                       '22:29:55 GMT',\n",
      "                                               'x-amzn-requestid': 'd3da4769-a67a-4c70-9596-dd882ebc9773'},\n",
      "                            'HTTPStatusCode': 200,\n",
      "                            'RequestId': 'd3da4769-a67a-4c70-9596-dd882ebc9773',\n",
      "                            'RetryAttempts': 0}}\n"
     ]
    }
   ],
   "source": [
    "get_record_result = featurestore_runtime.get_record(\n",
    "    FeatureGroupName=customers_feature_group_name,\n",
    "    RecordIdentifierValueAsString=customer_id\n",
    ")\n",
    "pretty_printer.pprint(get_record_result)"
   ]
  },
  {
   "cell_type": "markdown",
   "metadata": {},
   "source": [
    "Let us run Athena query to verify offline store. Note that the data ingestion into offline store could take some time since data is buffered, batched, and written into Amazon S3 within 15 minutes."
   ]
  },
  {
   "cell_type": "code",
   "execution_count": 66,
   "metadata": {
    "tags": []
   },
   "outputs": [],
   "source": [
    "customers_query = customers_fg.athena_query()\n",
    "customers_table = customers_query.table_name"
   ]
  },
  {
   "cell_type": "code",
   "execution_count": 67,
   "metadata": {
    "tags": []
   },
   "outputs": [],
   "source": [
    "output_location = f's3://{default_bucket}/{prefix}/query_results/'"
   ]
  },
  {
   "cell_type": "code",
   "execution_count": 68,
   "metadata": {
    "tags": []
   },
   "outputs": [],
   "source": [
    "query_string = f'SELECT * FROM \"{customers_table}\" limit 10'"
   ]
  },
  {
   "cell_type": "code",
   "execution_count": 69,
   "metadata": {
    "tags": []
   },
   "outputs": [
    {
     "data": {
      "text/html": [
       "<div>\n",
       "<style scoped>\n",
       "    .dataframe tbody tr th:only-of-type {\n",
       "        vertical-align: middle;\n",
       "    }\n",
       "\n",
       "    .dataframe tbody tr th {\n",
       "        vertical-align: top;\n",
       "    }\n",
       "\n",
       "    .dataframe thead th {\n",
       "        text-align: right;\n",
       "    }\n",
       "</style>\n",
       "<table border=\"1\" class=\"dataframe\">\n",
       "  <thead>\n",
       "    <tr style=\"text-align: right;\">\n",
       "      <th></th>\n",
       "      <th>write_time</th>\n",
       "      <th>api_invocation_time</th>\n",
       "      <th>is_deleted</th>\n",
       "      <th>customer_id</th>\n",
       "      <th>sex</th>\n",
       "      <th>is_married</th>\n",
       "      <th>event_time</th>\n",
       "      <th>age_18-29</th>\n",
       "      <th>age_30-39</th>\n",
       "      <th>age_40-49</th>\n",
       "      <th>age_50-59</th>\n",
       "      <th>age_60-69</th>\n",
       "      <th>age_70-plus</th>\n",
       "      <th>n_days_active</th>\n",
       "      <th>has_kids</th>\n",
       "    </tr>\n",
       "  </thead>\n",
       "  <tbody>\n",
       "    <tr>\n",
       "      <th>0</th>\n",
       "      <td>2023-05-22 21:59:37.011 UTC</td>\n",
       "      <td>2023-05-22 21:54:29.000 UTC</td>\n",
       "      <td>False</td>\n",
       "      <td>C13</td>\n",
       "      <td>0</td>\n",
       "      <td>0</td>\n",
       "      <td>2023-05-22T14:15:48.033Z</td>\n",
       "      <td>0</td>\n",
       "      <td>1</td>\n",
       "      <td>0</td>\n",
       "      <td>0</td>\n",
       "      <td>0</td>\n",
       "      <td>0</td>\n",
       "      <td>0.996575</td>\n",
       "      <td>NaN</td>\n",
       "    </tr>\n",
       "    <tr>\n",
       "      <th>1</th>\n",
       "      <td>2023-05-22 21:59:37.011 UTC</td>\n",
       "      <td>2023-05-22 21:54:30.000 UTC</td>\n",
       "      <td>False</td>\n",
       "      <td>C37</td>\n",
       "      <td>1</td>\n",
       "      <td>0</td>\n",
       "      <td>2023-05-22T14:15:48.088Z</td>\n",
       "      <td>0</td>\n",
       "      <td>0</td>\n",
       "      <td>0</td>\n",
       "      <td>0</td>\n",
       "      <td>0</td>\n",
       "      <td>1</td>\n",
       "      <td>0.715753</td>\n",
       "      <td>NaN</td>\n",
       "    </tr>\n",
       "    <tr>\n",
       "      <th>2</th>\n",
       "      <td>2023-05-22 21:59:37.011 UTC</td>\n",
       "      <td>2023-05-22 21:54:30.000 UTC</td>\n",
       "      <td>False</td>\n",
       "      <td>C4393</td>\n",
       "      <td>0</td>\n",
       "      <td>0</td>\n",
       "      <td>2023-05-22T14:15:56.688Z</td>\n",
       "      <td>0</td>\n",
       "      <td>0</td>\n",
       "      <td>0</td>\n",
       "      <td>0</td>\n",
       "      <td>0</td>\n",
       "      <td>1</td>\n",
       "      <td>0.639041</td>\n",
       "      <td>NaN</td>\n",
       "    </tr>\n",
       "    <tr>\n",
       "      <th>3</th>\n",
       "      <td>2023-05-22 21:59:37.011 UTC</td>\n",
       "      <td>2023-05-22 21:54:30.000 UTC</td>\n",
       "      <td>False</td>\n",
       "      <td>C7506</td>\n",
       "      <td>0</td>\n",
       "      <td>0</td>\n",
       "      <td>2023-05-22T14:16:02.756Z</td>\n",
       "      <td>0</td>\n",
       "      <td>0</td>\n",
       "      <td>0</td>\n",
       "      <td>0</td>\n",
       "      <td>0</td>\n",
       "      <td>1</td>\n",
       "      <td>0.865753</td>\n",
       "      <td>NaN</td>\n",
       "    </tr>\n",
       "    <tr>\n",
       "      <th>4</th>\n",
       "      <td>2023-05-22 21:59:37.011 UTC</td>\n",
       "      <td>2023-05-22 21:54:30.000 UTC</td>\n",
       "      <td>False</td>\n",
       "      <td>C4396</td>\n",
       "      <td>1</td>\n",
       "      <td>1</td>\n",
       "      <td>2023-05-22T14:15:56.693Z</td>\n",
       "      <td>0</td>\n",
       "      <td>1</td>\n",
       "      <td>0</td>\n",
       "      <td>0</td>\n",
       "      <td>0</td>\n",
       "      <td>0</td>\n",
       "      <td>0.464384</td>\n",
       "      <td>NaN</td>\n",
       "    </tr>\n",
       "  </tbody>\n",
       "</table>\n",
       "</div>"
      ],
      "text/plain": [
       "                    write_time          api_invocation_time  is_deleted  \\\n",
       "0  2023-05-22 21:59:37.011 UTC  2023-05-22 21:54:29.000 UTC       False   \n",
       "1  2023-05-22 21:59:37.011 UTC  2023-05-22 21:54:30.000 UTC       False   \n",
       "2  2023-05-22 21:59:37.011 UTC  2023-05-22 21:54:30.000 UTC       False   \n",
       "3  2023-05-22 21:59:37.011 UTC  2023-05-22 21:54:30.000 UTC       False   \n",
       "4  2023-05-22 21:59:37.011 UTC  2023-05-22 21:54:30.000 UTC       False   \n",
       "\n",
       "  customer_id  sex  is_married                event_time  age_18-29  \\\n",
       "0         C13    0           0  2023-05-22T14:15:48.033Z          0   \n",
       "1         C37    1           0  2023-05-22T14:15:48.088Z          0   \n",
       "2       C4393    0           0  2023-05-22T14:15:56.688Z          0   \n",
       "3       C7506    0           0  2023-05-22T14:16:02.756Z          0   \n",
       "4       C4396    1           1  2023-05-22T14:15:56.693Z          0   \n",
       "\n",
       "   age_30-39  age_40-49  age_50-59  age_60-69  age_70-plus  n_days_active  \\\n",
       "0          1          0          0          0            0       0.996575   \n",
       "1          0          0          0          0            1       0.715753   \n",
       "2          0          0          0          0            1       0.639041   \n",
       "3          0          0          0          0            1       0.865753   \n",
       "4          1          0          0          0            0       0.464384   \n",
       "\n",
       "   has_kids  \n",
       "0       NaN  \n",
       "1       NaN  \n",
       "2       NaN  \n",
       "3       NaN  \n",
       "4       NaN  "
      ]
     },
     "execution_count": 69,
     "metadata": {},
     "output_type": "execute_result"
    }
   ],
   "source": [
    "customers_query.run(query_string=query_string,output_location=output_location)\n",
    "customers_query.wait()\n",
    "athena_df = customers_query.as_dataframe()\n",
    "athena_df.head()"
   ]
  },
  {
   "cell_type": "markdown",
   "metadata": {},
   "source": [
    "As we see from the above step, it is very easy now to modify an existing feature group, add new features, and ingest data."
   ]
  },
  {
   "cell_type": "code",
   "execution_count": 70,
   "metadata": {
    "tags": []
   },
   "outputs": [],
   "source": [
    "customers_df.to_csv('./data/transformed/customers_has_kids.csv', index=False)"
   ]
  },
  {
   "cell_type": "markdown",
   "metadata": {},
   "source": [
    "### Verify offline store in Athena Console"
   ]
  },
  {
   "cell_type": "markdown",
   "metadata": {},
   "source": [
    "If it is for the first time we are launching Athena in AWS console we need to click on `Get Started` button and then before we run the first query we need to set up a query results location in Amazon S3. \n",
    "\n",
    "After setting the query results location, on the left panel we need to select the `AwsDataCatalog` as Data source and the `sagemaker_featurestore` as Database.\n",
    "\n",
    "We can run now run a query for the offline feature store data in Athena. To select the entries from the orders feature group we use the following SQL query. You will need to replace the orders table name with the corresponded value from your environment.\n",
    "\n",
    "```sql\n",
    "select * from \"<customers-table>\"\n",
    "limit 100\n",
    "```\n",
    "\n",
    "![Customers offline data](./images/m3_nb4_athena_query.png \"Customers Offline Data\")"
   ]
  },
  {
   "cell_type": "markdown",
   "metadata": {},
   "source": [
    "## Optional steps\n",
    "From here on in this notebook, we use the data that has the new feature \"has_kids\" and train the model again with the data, deploy the model and test it against sample data. The intention is not to prove that model performance improves (mind you this is sample data!) but to show a real life use case where modified feature groups can be used for training."
   ]
  },
  {
   "cell_type": "markdown",
   "metadata": {},
   "source": [
    "### Prepare model training dataset\n",
    "<a id='model-training-data' />"
   ]
  },
  {
   "cell_type": "markdown",
   "metadata": {},
   "source": [
    "Prepare train, test and validation data "
   ]
  },
  {
   "cell_type": "code",
   "execution_count": 71,
   "metadata": {
    "tags": []
   },
   "outputs": [],
   "source": [
    "products_query = products_fg.athena_query()\n",
    "products_table = products_query.table_name\n",
    "\n",
    "orders_query = orders_fg.athena_query()\n",
    "orders_table = orders_query.table_name"
   ]
  },
  {
   "cell_type": "markdown",
   "metadata": {},
   "source": [
    "To prepare training, validation and test data, we run an Athena query against offline feature store and get records for which \"has_kids\" has been populated. Why do we do this? Because offline feature store has historical records, we want only the latest ingested data that has \"has_kids\" populated for retraining our model."
   ]
  },
  {
   "cell_type": "code",
   "execution_count": 72,
   "metadata": {
    "tags": []
   },
   "outputs": [
    {
     "data": {
      "text/plain": [
       "'SELECT * FROM \"fscw_customers_05_22_21_52_1684792370\", \"fscw_products_05_22_21_52_1684792393\", \"fscw_orders_05_22_21_52_1684792420\" WHERE (\"fscw_orders_05_22_21_52_1684792420\".\"customer_id\" = \"fscw_customers_05_22_21_52_1684792370\".\"customer_id\") AND (\"fscw_orders_05_22_21_52_1684792420\".\"product_id\" = \"fscw_products_05_22_21_52_1684792393\".\"product_id\")AND (\"fscw_customers_05_22_21_52_1684792370\".\"has_kids\" is not null)'"
      ]
     },
     "execution_count": 72,
     "metadata": {},
     "output_type": "execute_result"
    }
   ],
   "source": [
    "query_string = f'SELECT * FROM \"{customers_table}\", \"{products_table}\", \"{orders_table}\" ' \\\n",
    "               f'WHERE (\"{orders_table}\".\"customer_id\" = \"{customers_table}\".\"customer_id\") ' \\\n",
    "               f'AND (\"{orders_table}\".\"product_id\" = \"{products_table}\".\"product_id\")' \\\n",
    "               f'AND (\"{customers_table}\".\"has_kids\" is not null)'\n",
    "query_string"
   ]
  },
  {
   "cell_type": "code",
   "execution_count": 73,
   "metadata": {
    "tags": []
   },
   "outputs": [
    {
     "data": {
      "text/html": [
       "<div>\n",
       "<style scoped>\n",
       "    .dataframe tbody tr th:only-of-type {\n",
       "        vertical-align: middle;\n",
       "    }\n",
       "\n",
       "    .dataframe tbody tr th {\n",
       "        vertical-align: top;\n",
       "    }\n",
       "\n",
       "    .dataframe thead th {\n",
       "        text-align: right;\n",
       "    }\n",
       "</style>\n",
       "<table border=\"1\" class=\"dataframe\">\n",
       "  <thead>\n",
       "    <tr style=\"text-align: right;\">\n",
       "      <th></th>\n",
       "      <th>write_time</th>\n",
       "      <th>api_invocation_time</th>\n",
       "      <th>is_deleted</th>\n",
       "      <th>customer_id</th>\n",
       "      <th>sex</th>\n",
       "      <th>is_married</th>\n",
       "      <th>event_time</th>\n",
       "      <th>age_18-29</th>\n",
       "      <th>age_30-39</th>\n",
       "      <th>age_40-49</th>\n",
       "      <th>...</th>\n",
       "      <th>write_time.2</th>\n",
       "      <th>api_invocation_time.2</th>\n",
       "      <th>is_deleted.2</th>\n",
       "      <th>order_id</th>\n",
       "      <th>customer_id.1</th>\n",
       "      <th>product_id.1</th>\n",
       "      <th>purchase_amount</th>\n",
       "      <th>is_reordered</th>\n",
       "      <th>event_time.2</th>\n",
       "      <th>n_days_since_last_purchase</th>\n",
       "    </tr>\n",
       "  </thead>\n",
       "  <tbody>\n",
       "    <tr>\n",
       "      <th>0</th>\n",
       "      <td>2023-05-22 22:12:49.367 UTC</td>\n",
       "      <td>2023-05-22 22:07:51.000 UTC</td>\n",
       "      <td>False</td>\n",
       "      <td>C3</td>\n",
       "      <td>0</td>\n",
       "      <td>1</td>\n",
       "      <td>2023-05-22T22:07:50.082Z</td>\n",
       "      <td>0</td>\n",
       "      <td>0</td>\n",
       "      <td>0</td>\n",
       "      <td>...</td>\n",
       "      <td>2023-05-22 22:01:07.695 UTC</td>\n",
       "      <td>2023-05-22 21:58:18.000 UTC</td>\n",
       "      <td>False</td>\n",
       "      <td>O24315</td>\n",
       "      <td>C3</td>\n",
       "      <td>P8252</td>\n",
       "      <td>0.794257</td>\n",
       "      <td>1</td>\n",
       "      <td>2023-05-22T14:23:26.133Z</td>\n",
       "      <td>0.470930</td>\n",
       "    </tr>\n",
       "    <tr>\n",
       "      <th>1</th>\n",
       "      <td>2023-05-22 22:12:49.367 UTC</td>\n",
       "      <td>2023-05-22 22:07:51.000 UTC</td>\n",
       "      <td>False</td>\n",
       "      <td>C3</td>\n",
       "      <td>0</td>\n",
       "      <td>1</td>\n",
       "      <td>2023-05-22T22:07:50.082Z</td>\n",
       "      <td>0</td>\n",
       "      <td>0</td>\n",
       "      <td>0</td>\n",
       "      <td>...</td>\n",
       "      <td>2023-05-22 22:00:57.702 UTC</td>\n",
       "      <td>2023-05-22 21:57:32.000 UTC</td>\n",
       "      <td>False</td>\n",
       "      <td>O41122</td>\n",
       "      <td>C3</td>\n",
       "      <td>P186</td>\n",
       "      <td>0.987921</td>\n",
       "      <td>1</td>\n",
       "      <td>2023-05-22T14:23:27.412Z</td>\n",
       "      <td>0.670543</td>\n",
       "    </tr>\n",
       "    <tr>\n",
       "      <th>2</th>\n",
       "      <td>2023-05-22 22:12:49.367 UTC</td>\n",
       "      <td>2023-05-22 22:07:51.000 UTC</td>\n",
       "      <td>False</td>\n",
       "      <td>C3</td>\n",
       "      <td>0</td>\n",
       "      <td>1</td>\n",
       "      <td>2023-05-22T22:07:50.082Z</td>\n",
       "      <td>0</td>\n",
       "      <td>0</td>\n",
       "      <td>0</td>\n",
       "      <td>...</td>\n",
       "      <td>2023-05-22 22:00:57.813 UTC</td>\n",
       "      <td>2023-05-22 21:57:40.000 UTC</td>\n",
       "      <td>False</td>\n",
       "      <td>O22783</td>\n",
       "      <td>C3</td>\n",
       "      <td>P6721</td>\n",
       "      <td>0.510297</td>\n",
       "      <td>1</td>\n",
       "      <td>2023-05-22T14:23:26.040Z</td>\n",
       "      <td>0.377907</td>\n",
       "    </tr>\n",
       "    <tr>\n",
       "      <th>3</th>\n",
       "      <td>2023-05-22 22:12:49.367 UTC</td>\n",
       "      <td>2023-05-22 22:07:51.000 UTC</td>\n",
       "      <td>False</td>\n",
       "      <td>C3</td>\n",
       "      <td>0</td>\n",
       "      <td>1</td>\n",
       "      <td>2023-05-22T22:07:50.082Z</td>\n",
       "      <td>0</td>\n",
       "      <td>0</td>\n",
       "      <td>0</td>\n",
       "      <td>...</td>\n",
       "      <td>2023-05-22 22:00:57.921 UTC</td>\n",
       "      <td>2023-05-22 21:56:50.000 UTC</td>\n",
       "      <td>False</td>\n",
       "      <td>O52027</td>\n",
       "      <td>C3</td>\n",
       "      <td>P12115</td>\n",
       "      <td>0.914158</td>\n",
       "      <td>0</td>\n",
       "      <td>2023-05-22T14:23:28.191Z</td>\n",
       "      <td>0.432171</td>\n",
       "    </tr>\n",
       "    <tr>\n",
       "      <th>4</th>\n",
       "      <td>2023-05-22 22:12:49.367 UTC</td>\n",
       "      <td>2023-05-22 22:07:51.000 UTC</td>\n",
       "      <td>False</td>\n",
       "      <td>C3</td>\n",
       "      <td>0</td>\n",
       "      <td>1</td>\n",
       "      <td>2023-05-22T22:07:50.082Z</td>\n",
       "      <td>0</td>\n",
       "      <td>0</td>\n",
       "      <td>0</td>\n",
       "      <td>...</td>\n",
       "      <td>2023-05-22 22:01:01.613 UTC</td>\n",
       "      <td>2023-05-22 21:58:19.000 UTC</td>\n",
       "      <td>False</td>\n",
       "      <td>O92924</td>\n",
       "      <td>C3</td>\n",
       "      <td>P2175</td>\n",
       "      <td>0.553069</td>\n",
       "      <td>1</td>\n",
       "      <td>2023-05-22T14:23:31.531Z</td>\n",
       "      <td>0.364341</td>\n",
       "    </tr>\n",
       "  </tbody>\n",
       "</table>\n",
       "<p>5 rows × 50 columns</p>\n",
       "</div>"
      ],
      "text/plain": [
       "                    write_time          api_invocation_time  is_deleted  \\\n",
       "0  2023-05-22 22:12:49.367 UTC  2023-05-22 22:07:51.000 UTC       False   \n",
       "1  2023-05-22 22:12:49.367 UTC  2023-05-22 22:07:51.000 UTC       False   \n",
       "2  2023-05-22 22:12:49.367 UTC  2023-05-22 22:07:51.000 UTC       False   \n",
       "3  2023-05-22 22:12:49.367 UTC  2023-05-22 22:07:51.000 UTC       False   \n",
       "4  2023-05-22 22:12:49.367 UTC  2023-05-22 22:07:51.000 UTC       False   \n",
       "\n",
       "  customer_id  sex  is_married                event_time  age_18-29  \\\n",
       "0          C3    0           1  2023-05-22T22:07:50.082Z          0   \n",
       "1          C3    0           1  2023-05-22T22:07:50.082Z          0   \n",
       "2          C3    0           1  2023-05-22T22:07:50.082Z          0   \n",
       "3          C3    0           1  2023-05-22T22:07:50.082Z          0   \n",
       "4          C3    0           1  2023-05-22T22:07:50.082Z          0   \n",
       "\n",
       "   age_30-39  age_40-49  ...                 write_time.2  \\\n",
       "0          0          0  ...  2023-05-22 22:01:07.695 UTC   \n",
       "1          0          0  ...  2023-05-22 22:00:57.702 UTC   \n",
       "2          0          0  ...  2023-05-22 22:00:57.813 UTC   \n",
       "3          0          0  ...  2023-05-22 22:00:57.921 UTC   \n",
       "4          0          0  ...  2023-05-22 22:01:01.613 UTC   \n",
       "\n",
       "         api_invocation_time.2  is_deleted.2  order_id  customer_id.1  \\\n",
       "0  2023-05-22 21:58:18.000 UTC         False    O24315             C3   \n",
       "1  2023-05-22 21:57:32.000 UTC         False    O41122             C3   \n",
       "2  2023-05-22 21:57:40.000 UTC         False    O22783             C3   \n",
       "3  2023-05-22 21:56:50.000 UTC         False    O52027             C3   \n",
       "4  2023-05-22 21:58:19.000 UTC         False    O92924             C3   \n",
       "\n",
       "  product_id.1 purchase_amount  is_reordered              event_time.2  \\\n",
       "0        P8252        0.794257             1  2023-05-22T14:23:26.133Z   \n",
       "1         P186        0.987921             1  2023-05-22T14:23:27.412Z   \n",
       "2        P6721        0.510297             1  2023-05-22T14:23:26.040Z   \n",
       "3       P12115        0.914158             0  2023-05-22T14:23:28.191Z   \n",
       "4        P2175        0.553069             1  2023-05-22T14:23:31.531Z   \n",
       "\n",
       "  n_days_since_last_purchase  \n",
       "0                   0.470930  \n",
       "1                   0.670543  \n",
       "2                   0.377907  \n",
       "3                   0.432171  \n",
       "4                   0.364341  \n",
       "\n",
       "[5 rows x 50 columns]"
      ]
     },
     "execution_count": 73,
     "metadata": {},
     "output_type": "execute_result"
    }
   ],
   "source": [
    "orders_query.run(query_string=query_string, output_location=output_location)\n",
    "orders_query.wait()\n",
    "joined_df = orders_query.as_dataframe()\n",
    "joined_df.head()"
   ]
  },
  {
   "cell_type": "code",
   "execution_count": 74,
   "metadata": {
    "tags": []
   },
   "outputs": [
    {
     "data": {
      "text/plain": [
       "(99986, 50)"
      ]
     },
     "execution_count": 74,
     "metadata": {},
     "output_type": "execute_result"
    }
   ],
   "source": [
    "joined_df.shape"
   ]
  },
  {
   "cell_type": "code",
   "execution_count": 75,
   "metadata": {
    "tags": []
   },
   "outputs": [],
   "source": [
    "model_df = joined_df.drop(['order_id', \n",
    "                           'customer_id', \n",
    "                           'product_id', \n",
    "                           'event_time', \n",
    "                           'write_time', \n",
    "                           'api_invocation_time', \n",
    "                           'is_deleted', \n",
    "                           'product_id.1', \n",
    "                           'event_time.1', \n",
    "                           'write_time.1', \n",
    "                           'api_invocation_time.1', \n",
    "                           'is_deleted.1', \n",
    "                           'customer_id.1', \n",
    "                           'purchase_amount',\n",
    "                           'event_time.2', \n",
    "                           'n_days_since_last_purchase',\n",
    "                           'write_time.2', \n",
    "                           'api_invocation_time.2', \n",
    "                           'is_deleted.2'], axis=1)"
   ]
  },
  {
   "cell_type": "code",
   "execution_count": 76,
   "metadata": {
    "tags": []
   },
   "outputs": [
    {
     "data": {
      "text/html": [
       "<div>\n",
       "<style scoped>\n",
       "    .dataframe tbody tr th:only-of-type {\n",
       "        vertical-align: middle;\n",
       "    }\n",
       "\n",
       "    .dataframe tbody tr th {\n",
       "        vertical-align: top;\n",
       "    }\n",
       "\n",
       "    .dataframe thead th {\n",
       "        text-align: right;\n",
       "    }\n",
       "</style>\n",
       "<table border=\"1\" class=\"dataframe\">\n",
       "  <thead>\n",
       "    <tr style=\"text-align: right;\">\n",
       "      <th></th>\n",
       "      <th>sex</th>\n",
       "      <th>is_married</th>\n",
       "      <th>age_18-29</th>\n",
       "      <th>age_30-39</th>\n",
       "      <th>age_40-49</th>\n",
       "      <th>age_50-59</th>\n",
       "      <th>age_60-69</th>\n",
       "      <th>age_70-plus</th>\n",
       "      <th>n_days_active</th>\n",
       "      <th>has_kids</th>\n",
       "      <th>...</th>\n",
       "      <th>category_ice_cream_ice</th>\n",
       "      <th>category_juice_nectars</th>\n",
       "      <th>category_packaged_cheese</th>\n",
       "      <th>category_refrigerated</th>\n",
       "      <th>category_soup_broth_bouillon</th>\n",
       "      <th>category_spices_seasonings</th>\n",
       "      <th>category_tea</th>\n",
       "      <th>category_vitamins_supplements</th>\n",
       "      <th>category_yogurt</th>\n",
       "      <th>is_reordered</th>\n",
       "    </tr>\n",
       "  </thead>\n",
       "  <tbody>\n",
       "    <tr>\n",
       "      <th>0</th>\n",
       "      <td>0</td>\n",
       "      <td>1</td>\n",
       "      <td>0</td>\n",
       "      <td>0</td>\n",
       "      <td>0</td>\n",
       "      <td>0</td>\n",
       "      <td>1</td>\n",
       "      <td>0</td>\n",
       "      <td>0.821233</td>\n",
       "      <td>1</td>\n",
       "      <td>...</td>\n",
       "      <td>0</td>\n",
       "      <td>0</td>\n",
       "      <td>0</td>\n",
       "      <td>0</td>\n",
       "      <td>0</td>\n",
       "      <td>1</td>\n",
       "      <td>0</td>\n",
       "      <td>0</td>\n",
       "      <td>0</td>\n",
       "      <td>1</td>\n",
       "    </tr>\n",
       "    <tr>\n",
       "      <th>1</th>\n",
       "      <td>0</td>\n",
       "      <td>1</td>\n",
       "      <td>0</td>\n",
       "      <td>0</td>\n",
       "      <td>0</td>\n",
       "      <td>0</td>\n",
       "      <td>1</td>\n",
       "      <td>0</td>\n",
       "      <td>0.821233</td>\n",
       "      <td>1</td>\n",
       "      <td>...</td>\n",
       "      <td>0</td>\n",
       "      <td>0</td>\n",
       "      <td>0</td>\n",
       "      <td>0</td>\n",
       "      <td>0</td>\n",
       "      <td>0</td>\n",
       "      <td>0</td>\n",
       "      <td>0</td>\n",
       "      <td>0</td>\n",
       "      <td>1</td>\n",
       "    </tr>\n",
       "    <tr>\n",
       "      <th>2</th>\n",
       "      <td>0</td>\n",
       "      <td>1</td>\n",
       "      <td>0</td>\n",
       "      <td>0</td>\n",
       "      <td>0</td>\n",
       "      <td>0</td>\n",
       "      <td>1</td>\n",
       "      <td>0</td>\n",
       "      <td>0.821233</td>\n",
       "      <td>1</td>\n",
       "      <td>...</td>\n",
       "      <td>0</td>\n",
       "      <td>0</td>\n",
       "      <td>0</td>\n",
       "      <td>0</td>\n",
       "      <td>1</td>\n",
       "      <td>0</td>\n",
       "      <td>0</td>\n",
       "      <td>0</td>\n",
       "      <td>0</td>\n",
       "      <td>1</td>\n",
       "    </tr>\n",
       "    <tr>\n",
       "      <th>3</th>\n",
       "      <td>0</td>\n",
       "      <td>1</td>\n",
       "      <td>0</td>\n",
       "      <td>0</td>\n",
       "      <td>0</td>\n",
       "      <td>0</td>\n",
       "      <td>1</td>\n",
       "      <td>0</td>\n",
       "      <td>0.821233</td>\n",
       "      <td>1</td>\n",
       "      <td>...</td>\n",
       "      <td>0</td>\n",
       "      <td>0</td>\n",
       "      <td>0</td>\n",
       "      <td>1</td>\n",
       "      <td>0</td>\n",
       "      <td>0</td>\n",
       "      <td>0</td>\n",
       "      <td>0</td>\n",
       "      <td>0</td>\n",
       "      <td>0</td>\n",
       "    </tr>\n",
       "    <tr>\n",
       "      <th>4</th>\n",
       "      <td>0</td>\n",
       "      <td>1</td>\n",
       "      <td>0</td>\n",
       "      <td>0</td>\n",
       "      <td>0</td>\n",
       "      <td>0</td>\n",
       "      <td>1</td>\n",
       "      <td>0</td>\n",
       "      <td>0.821233</td>\n",
       "      <td>1</td>\n",
       "      <td>...</td>\n",
       "      <td>0</td>\n",
       "      <td>0</td>\n",
       "      <td>0</td>\n",
       "      <td>0</td>\n",
       "      <td>0</td>\n",
       "      <td>0</td>\n",
       "      <td>0</td>\n",
       "      <td>0</td>\n",
       "      <td>0</td>\n",
       "      <td>1</td>\n",
       "    </tr>\n",
       "  </tbody>\n",
       "</table>\n",
       "<p>5 rows × 31 columns</p>\n",
       "</div>"
      ],
      "text/plain": [
       "   sex  is_married  age_18-29  age_30-39  age_40-49  age_50-59  age_60-69  \\\n",
       "0    0           1          0          0          0          0          1   \n",
       "1    0           1          0          0          0          0          1   \n",
       "2    0           1          0          0          0          0          1   \n",
       "3    0           1          0          0          0          0          1   \n",
       "4    0           1          0          0          0          0          1   \n",
       "\n",
       "   age_70-plus  n_days_active  has_kids  ...  category_ice_cream_ice  \\\n",
       "0            0       0.821233         1  ...                       0   \n",
       "1            0       0.821233         1  ...                       0   \n",
       "2            0       0.821233         1  ...                       0   \n",
       "3            0       0.821233         1  ...                       0   \n",
       "4            0       0.821233         1  ...                       0   \n",
       "\n",
       "   category_juice_nectars  category_packaged_cheese  category_refrigerated  \\\n",
       "0                       0                         0                      0   \n",
       "1                       0                         0                      0   \n",
       "2                       0                         0                      0   \n",
       "3                       0                         0                      1   \n",
       "4                       0                         0                      0   \n",
       "\n",
       "   category_soup_broth_bouillon  category_spices_seasonings  category_tea  \\\n",
       "0                             0                           1             0   \n",
       "1                             0                           0             0   \n",
       "2                             1                           0             0   \n",
       "3                             0                           0             0   \n",
       "4                             0                           0             0   \n",
       "\n",
       "   category_vitamins_supplements  category_yogurt  is_reordered  \n",
       "0                              0                0             1  \n",
       "1                              0                0             1  \n",
       "2                              0                0             1  \n",
       "3                              0                0             0  \n",
       "4                              0                0             1  \n",
       "\n",
       "[5 rows x 31 columns]"
      ]
     },
     "execution_count": 76,
     "metadata": {},
     "output_type": "execute_result"
    }
   ],
   "source": [
    "model_df.head(5)"
   ]
  },
  {
   "cell_type": "code",
   "execution_count": 77,
   "metadata": {
    "tags": []
   },
   "outputs": [
    {
     "data": {
      "text/html": [
       "<div>\n",
       "<style scoped>\n",
       "    .dataframe tbody tr th:only-of-type {\n",
       "        vertical-align: middle;\n",
       "    }\n",
       "\n",
       "    .dataframe tbody tr th {\n",
       "        vertical-align: top;\n",
       "    }\n",
       "\n",
       "    .dataframe thead th {\n",
       "        text-align: right;\n",
       "    }\n",
       "</style>\n",
       "<table border=\"1\" class=\"dataframe\">\n",
       "  <thead>\n",
       "    <tr style=\"text-align: right;\">\n",
       "      <th></th>\n",
       "      <th>is_reordered</th>\n",
       "      <th>sex</th>\n",
       "      <th>is_married</th>\n",
       "      <th>age_18-29</th>\n",
       "      <th>age_30-39</th>\n",
       "      <th>age_40-49</th>\n",
       "      <th>age_50-59</th>\n",
       "      <th>age_60-69</th>\n",
       "      <th>age_70-plus</th>\n",
       "      <th>n_days_active</th>\n",
       "      <th>...</th>\n",
       "      <th>category_hair_care</th>\n",
       "      <th>category_ice_cream_ice</th>\n",
       "      <th>category_juice_nectars</th>\n",
       "      <th>category_packaged_cheese</th>\n",
       "      <th>category_refrigerated</th>\n",
       "      <th>category_soup_broth_bouillon</th>\n",
       "      <th>category_spices_seasonings</th>\n",
       "      <th>category_tea</th>\n",
       "      <th>category_vitamins_supplements</th>\n",
       "      <th>category_yogurt</th>\n",
       "    </tr>\n",
       "  </thead>\n",
       "  <tbody>\n",
       "    <tr>\n",
       "      <th>0</th>\n",
       "      <td>1</td>\n",
       "      <td>0</td>\n",
       "      <td>1</td>\n",
       "      <td>0</td>\n",
       "      <td>0</td>\n",
       "      <td>0</td>\n",
       "      <td>0</td>\n",
       "      <td>1</td>\n",
       "      <td>0</td>\n",
       "      <td>0.821233</td>\n",
       "      <td>...</td>\n",
       "      <td>0</td>\n",
       "      <td>0</td>\n",
       "      <td>0</td>\n",
       "      <td>0</td>\n",
       "      <td>0</td>\n",
       "      <td>0</td>\n",
       "      <td>1</td>\n",
       "      <td>0</td>\n",
       "      <td>0</td>\n",
       "      <td>0</td>\n",
       "    </tr>\n",
       "    <tr>\n",
       "      <th>1</th>\n",
       "      <td>1</td>\n",
       "      <td>0</td>\n",
       "      <td>1</td>\n",
       "      <td>0</td>\n",
       "      <td>0</td>\n",
       "      <td>0</td>\n",
       "      <td>0</td>\n",
       "      <td>1</td>\n",
       "      <td>0</td>\n",
       "      <td>0.821233</td>\n",
       "      <td>...</td>\n",
       "      <td>0</td>\n",
       "      <td>0</td>\n",
       "      <td>0</td>\n",
       "      <td>0</td>\n",
       "      <td>0</td>\n",
       "      <td>0</td>\n",
       "      <td>0</td>\n",
       "      <td>0</td>\n",
       "      <td>0</td>\n",
       "      <td>0</td>\n",
       "    </tr>\n",
       "    <tr>\n",
       "      <th>2</th>\n",
       "      <td>1</td>\n",
       "      <td>0</td>\n",
       "      <td>1</td>\n",
       "      <td>0</td>\n",
       "      <td>0</td>\n",
       "      <td>0</td>\n",
       "      <td>0</td>\n",
       "      <td>1</td>\n",
       "      <td>0</td>\n",
       "      <td>0.821233</td>\n",
       "      <td>...</td>\n",
       "      <td>0</td>\n",
       "      <td>0</td>\n",
       "      <td>0</td>\n",
       "      <td>0</td>\n",
       "      <td>0</td>\n",
       "      <td>1</td>\n",
       "      <td>0</td>\n",
       "      <td>0</td>\n",
       "      <td>0</td>\n",
       "      <td>0</td>\n",
       "    </tr>\n",
       "    <tr>\n",
       "      <th>3</th>\n",
       "      <td>0</td>\n",
       "      <td>0</td>\n",
       "      <td>1</td>\n",
       "      <td>0</td>\n",
       "      <td>0</td>\n",
       "      <td>0</td>\n",
       "      <td>0</td>\n",
       "      <td>1</td>\n",
       "      <td>0</td>\n",
       "      <td>0.821233</td>\n",
       "      <td>...</td>\n",
       "      <td>0</td>\n",
       "      <td>0</td>\n",
       "      <td>0</td>\n",
       "      <td>0</td>\n",
       "      <td>1</td>\n",
       "      <td>0</td>\n",
       "      <td>0</td>\n",
       "      <td>0</td>\n",
       "      <td>0</td>\n",
       "      <td>0</td>\n",
       "    </tr>\n",
       "    <tr>\n",
       "      <th>4</th>\n",
       "      <td>1</td>\n",
       "      <td>0</td>\n",
       "      <td>1</td>\n",
       "      <td>0</td>\n",
       "      <td>0</td>\n",
       "      <td>0</td>\n",
       "      <td>0</td>\n",
       "      <td>1</td>\n",
       "      <td>0</td>\n",
       "      <td>0.821233</td>\n",
       "      <td>...</td>\n",
       "      <td>0</td>\n",
       "      <td>0</td>\n",
       "      <td>0</td>\n",
       "      <td>0</td>\n",
       "      <td>0</td>\n",
       "      <td>0</td>\n",
       "      <td>0</td>\n",
       "      <td>0</td>\n",
       "      <td>0</td>\n",
       "      <td>0</td>\n",
       "    </tr>\n",
       "  </tbody>\n",
       "</table>\n",
       "<p>5 rows × 31 columns</p>\n",
       "</div>"
      ],
      "text/plain": [
       "   is_reordered  sex  is_married  age_18-29  age_30-39  age_40-49  age_50-59  \\\n",
       "0             1    0           1          0          0          0          0   \n",
       "1             1    0           1          0          0          0          0   \n",
       "2             1    0           1          0          0          0          0   \n",
       "3             0    0           1          0          0          0          0   \n",
       "4             1    0           1          0          0          0          0   \n",
       "\n",
       "   age_60-69  age_70-plus  n_days_active  ...  category_hair_care  \\\n",
       "0          1            0       0.821233  ...                   0   \n",
       "1          1            0       0.821233  ...                   0   \n",
       "2          1            0       0.821233  ...                   0   \n",
       "3          1            0       0.821233  ...                   0   \n",
       "4          1            0       0.821233  ...                   0   \n",
       "\n",
       "   category_ice_cream_ice  category_juice_nectars  category_packaged_cheese  \\\n",
       "0                       0                       0                         0   \n",
       "1                       0                       0                         0   \n",
       "2                       0                       0                         0   \n",
       "3                       0                       0                         0   \n",
       "4                       0                       0                         0   \n",
       "\n",
       "   category_refrigerated  category_soup_broth_bouillon  \\\n",
       "0                      0                             0   \n",
       "1                      0                             0   \n",
       "2                      0                             1   \n",
       "3                      1                             0   \n",
       "4                      0                             0   \n",
       "\n",
       "   category_spices_seasonings  category_tea  category_vitamins_supplements  \\\n",
       "0                           1             0                              0   \n",
       "1                           0             0                              0   \n",
       "2                           0             0                              0   \n",
       "3                           0             0                              0   \n",
       "4                           0             0                              0   \n",
       "\n",
       "   category_yogurt  \n",
       "0                0  \n",
       "1                0  \n",
       "2                0  \n",
       "3                0  \n",
       "4                0  \n",
       "\n",
       "[5 rows x 31 columns]"
      ]
     },
     "execution_count": 77,
     "metadata": {},
     "output_type": "execute_result"
    }
   ],
   "source": [
    "first_column = model_df.pop('is_reordered')\n",
    "model_df.insert(0, 'is_reordered', first_column)\n",
    "model_df.head()"
   ]
  },
  {
   "cell_type": "code",
   "execution_count": 78,
   "metadata": {
    "tags": []
   },
   "outputs": [],
   "source": [
    "model_df.to_csv('./data/retrain/transformed_has_kids.csv', index=False)"
   ]
  },
  {
   "cell_type": "markdown",
   "metadata": {},
   "source": [
    "### Retrain the XGBoost model with the update feature group\n",
    "<a id='retrain-xg-boost' />"
   ]
  },
  {
   "cell_type": "markdown",
   "metadata": {},
   "source": [
    "Now lets train the model again with this new data set"
   ]
  },
  {
   "cell_type": "code",
   "execution_count": 79,
   "metadata": {
    "tags": []
   },
   "outputs": [],
   "source": [
    "train_df, validation_df, test_df = np.split(model_df.sample(frac=1, random_state=123), [int(.7*len(model_df)), int(.9*len(model_df))])"
   ]
  },
  {
   "cell_type": "code",
   "execution_count": 80,
   "metadata": {
    "tags": []
   },
   "outputs": [
    {
     "data": {
      "text/plain": [
       "(69990, 31)"
      ]
     },
     "execution_count": 80,
     "metadata": {},
     "output_type": "execute_result"
    }
   ],
   "source": [
    "train_df.shape"
   ]
  },
  {
   "cell_type": "code",
   "execution_count": 81,
   "metadata": {
    "tags": []
   },
   "outputs": [
    {
     "data": {
      "text/plain": [
       "(19997, 31)"
      ]
     },
     "execution_count": 81,
     "metadata": {},
     "output_type": "execute_result"
    }
   ],
   "source": [
    "validation_df.shape"
   ]
  },
  {
   "cell_type": "code",
   "execution_count": 82,
   "metadata": {
    "tags": []
   },
   "outputs": [
    {
     "data": {
      "text/plain": [
       "(9999, 31)"
      ]
     },
     "execution_count": 82,
     "metadata": {},
     "output_type": "execute_result"
    }
   ],
   "source": [
    "test_df.shape"
   ]
  },
  {
   "cell_type": "markdown",
   "metadata": {},
   "source": [
    "Store the train, validation and test data locally and i"
   ]
  },
  {
   "cell_type": "code",
   "execution_count": 83,
   "metadata": {
    "tags": []
   },
   "outputs": [],
   "source": [
    "train_df.to_csv('./data/retrain/train.csv', index=False)\n",
    "validation_df.to_csv('./data/retrain/validation.csv', index=False)\n",
    "test_df.to_csv('./data/retrain/test.csv', index=False)"
   ]
  },
  {
   "cell_type": "code",
   "execution_count": 84,
   "metadata": {
    "tags": []
   },
   "outputs": [],
   "source": [
    "s3.Bucket(default_bucket).Object(os.path.join(prefix, 'retrain/train.csv')).upload_file('./data/retrain/train.csv')\n",
    "s3.Bucket(default_bucket).Object(os.path.join(prefix, 'retrain/validation.csv')).upload_file('./data/retrain/validation.csv')\n",
    "s3.Bucket(default_bucket).Object(os.path.join(prefix, 'retrain/test.csv')).upload_file('./data/retrain/test.csv')"
   ]
  },
  {
   "cell_type": "code",
   "execution_count": 85,
   "metadata": {
    "tags": []
   },
   "outputs": [],
   "source": [
    "train_set_location = 's3://{}/{}/retrain/'.format(default_bucket, prefix)\n",
    "validation_set_location = 's3://{}/{}/retrain/'.format(default_bucket, prefix)\n",
    "test_set_location = 's3://{}/{}/retrain/'.format(default_bucket, prefix)"
   ]
  },
  {
   "cell_type": "code",
   "execution_count": 86,
   "metadata": {
    "tags": []
   },
   "outputs": [],
   "source": [
    "train_set_pointer = TrainingInput(s3_data=train_set_location, content_type='csv')\n",
    "validation_set_pointer = TrainingInput(s3_data=validation_set_location, content_type='csv')\n",
    "test_set_pointer = TrainingInput(s3_data=test_set_location, content_type='csv')"
   ]
  },
  {
   "cell_type": "code",
   "execution_count": 87,
   "metadata": {
    "tags": []
   },
   "outputs": [],
   "source": [
    "container_uri = sagemaker.image_uris.retrieve(region=boto_session.region_name, \n",
    "                                              framework='xgboost', \n",
    "                                              version='1.0-1', \n",
    "                                              image_scope='training')"
   ]
  },
  {
   "cell_type": "code",
   "execution_count": 88,
   "metadata": {
    "tags": []
   },
   "outputs": [],
   "source": [
    "xgb = sagemaker.estimator.Estimator(image_uri=container_uri,\n",
    "                                    role=role, \n",
    "                                    instance_count=2, \n",
    "                                    instance_type='ml.m5.xlarge',\n",
    "                                    output_path='s3://{}/{}/model-artifacts'.format(default_bucket, prefix),\n",
    "                                    sagemaker_session=sagemaker_session,\n",
    "                                    base_job_name='reorder-classifier')\n",
    "\n",
    "xgb.set_hyperparameters(objective='binary:logistic',\n",
    "                        num_round=100)"
   ]
  },
  {
   "cell_type": "code",
   "execution_count": 89,
   "metadata": {
    "tags": []
   },
   "outputs": [
    {
     "name": "stdout",
     "output_type": "stream",
     "text": [
      "2023-05-22 22:31:25 Starting - Starting the training job...ProfilerReport-1684794685: InProgress\n",
      "...\n",
      "2023-05-22 22:32:24 Starting - Preparing the instances for training......\n",
      "2023-05-22 22:33:26 Downloading - Downloading input data...\n",
      "2023-05-22 22:33:56 Training - Downloading the training image...\n",
      "2023-05-22 22:34:16 Training - Training image download completed. Training in progress..\u001b[34m[2023-05-22 22:34:27.856 ip-10-0-155-106.ec2.internal:7 INFO utils.py:27] RULE_JOB_STOP_SIGNAL_FILENAME: None\u001b[0m\n",
      "\u001b[34mINFO:sagemaker-containers:Imported framework sagemaker_xgboost_container.training\u001b[0m\n",
      "\u001b[34mINFO:sagemaker-containers:Failed to parse hyperparameter objective value binary:logistic to Json.\u001b[0m\n",
      "\u001b[34mReturning the value itself\u001b[0m\n",
      "\u001b[34mINFO:sagemaker-containers:No GPUs detected (normal if no gpus installed)\u001b[0m\n",
      "\u001b[34mINFO:sagemaker_xgboost_container.training:Running XGBoost Sagemaker in algorithm mode\u001b[0m\n",
      "\u001b[34mINFO:root:Determined delimiter of CSV input is ','\u001b[0m\n",
      "\u001b[34mINFO:root:Determined delimiter of CSV input is ','\u001b[0m\n",
      "\u001b[34mINFO:root:Determined delimiter of CSV input is ','\u001b[0m\n",
      "\u001b[34mINFO:root:Determined delimiter of CSV input is ','\u001b[0m\n",
      "\u001b[34mINFO:root:Determined delimiter of CSV input is ','\u001b[0m\n",
      "\u001b[34mINFO:root:Determined delimiter of CSV input is ','\u001b[0m\n",
      "\u001b[34mINFO:root:Determined delimiter of CSV input is ','\u001b[0m\n",
      "\u001b[34mINFO:root:Determined delimiter of CSV input is ','\u001b[0m\n",
      "\u001b[34mINFO:root:Distributed node training with 2 hosts: ['algo-1', 'algo-2']\u001b[0m\n",
      "\u001b[34mINFO:RabitTracker:start listen on algo-1:9099\u001b[0m\n",
      "\u001b[34mINFO:RabitContextManager:Rabit slave environment: {'DMLC_TRACKER_URI': 'algo-1', 'DMLC_TRACKER_PORT': 9099}\u001b[0m\n",
      "\u001b[34mINFO:RabitContextManager:Connected to RabitTracker.\u001b[0m\n",
      "\u001b[34mINFO:RabitTracker:No data received from connection ('10.0.155.106', 60226). Closing.\u001b[0m\n",
      "\u001b[34mINFO:RabitTracker:No data received from connection ('10.0.146.170', 33268). Closing.\u001b[0m\n",
      "\u001b[34mINFO:RabitTracker:Recieve start signal from 10.0.146.170; assign rank 0\u001b[0m\n",
      "\u001b[34mINFO:RabitTracker:Recieve start signal from 10.0.155.106; assign rank 1\u001b[0m\n",
      "\u001b[34mINFO:RabitTracker:@tracker All of 2 nodes getting started\u001b[0m\n",
      "\u001b[34mINFO:RabitTracker:@tracker All nodes finishes job\u001b[0m\n",
      "\u001b[34mINFO:RabitTracker:@tracker 0.17424798011779785 secs between node start and job finish\u001b[0m\n",
      "\u001b[34mINFO:RabitTracker:start listen on algo-1:9100\u001b[0m\n",
      "\u001b[34mINFO:RabitContextManager:Rabit slave environment: {'DMLC_TRACKER_URI': 'algo-1', 'DMLC_TRACKER_PORT': 9100}\u001b[0m\n",
      "\u001b[34mINFO:RabitContextManager:Connected to RabitTracker.\u001b[0m\n",
      "\u001b[34mINFO:RabitTracker:No data received from connection ('10.0.155.106', 56654). Closing.\u001b[0m\n",
      "\u001b[34mINFO:RabitTracker:No data received from connection ('10.0.146.170', 54166). Closing.\u001b[0m\n",
      "\u001b[35m[2023-05-22 22:34:27.529 ip-10-0-146-170.ec2.internal:7 INFO utils.py:27] RULE_JOB_STOP_SIGNAL_FILENAME: None\u001b[0m\n",
      "\u001b[35mINFO:sagemaker-containers:Imported framework sagemaker_xgboost_container.training\u001b[0m\n",
      "\u001b[35mINFO:sagemaker-containers:Failed to parse hyperparameter objective value binary:logistic to Json.\u001b[0m\n",
      "\u001b[35mReturning the value itself\u001b[0m\n",
      "\u001b[35mINFO:sagemaker-containers:No GPUs detected (normal if no gpus installed)\u001b[0m\n",
      "\u001b[35mINFO:sagemaker_xgboost_container.training:Running XGBoost Sagemaker in algorithm mode\u001b[0m\n",
      "\u001b[35mINFO:root:Determined delimiter of CSV input is ','\u001b[0m\n",
      "\u001b[35mINFO:root:Determined delimiter of CSV input is ','\u001b[0m\n",
      "\u001b[35mINFO:root:Determined delimiter of CSV input is ','\u001b[0m\n",
      "\u001b[35mINFO:root:Determined delimiter of CSV input is ','\u001b[0m\n",
      "\u001b[35mINFO:root:Determined delimiter of CSV input is ','\u001b[0m\n",
      "\u001b[35mINFO:root:Determined delimiter of CSV input is ','\u001b[0m\n",
      "\u001b[35mINFO:root:Determined delimiter of CSV input is ','\u001b[0m\n",
      "\u001b[35mINFO:root:Determined delimiter of CSV input is ','\u001b[0m\n",
      "\u001b[35mINFO:root:Distributed node training with 2 hosts: ['algo-1', 'algo-2']\u001b[0m\n",
      "\u001b[35mINFO:RabitContextManager:Failed to connect to RabitTracker on attempt 0\u001b[0m\n",
      "\u001b[35mINFO:RabitContextManager:Sleeping for 3 sec before retrying\u001b[0m\n",
      "\u001b[35mINFO:RabitContextManager:Connected to RabitTracker.\u001b[0m\n",
      "\u001b[35mINFO:RabitContextManager:Failed to connect to RabitTracker on attempt 0\u001b[0m\n",
      "\u001b[35mINFO:RabitContextManager:Sleeping for 3 sec before retrying\u001b[0m\n",
      "\u001b[35mINFO:RabitContextManager:Connected to RabitTracker.\u001b[0m\n",
      "\u001b[35mINFO:root:Train matrix has 99989 rows\u001b[0m\n",
      "\u001b[35mINFO:root:Validation matrix has 99989 rows\u001b[0m\n",
      "\u001b[34mINFO:RabitTracker:Recieve start signal from 10.0.146.170; assign rank 0\u001b[0m\n",
      "\u001b[34mINFO:RabitTracker:Recieve start signal from 10.0.155.106; assign rank 1\u001b[0m\n",
      "\u001b[34mINFO:root:Train matrix has 99989 rows\u001b[0m\n",
      "\u001b[34mINFO:RabitTracker:@tracker All of 2 nodes getting started\u001b[0m\n",
      "\u001b[34mINFO:root:Validation matrix has 99989 rows\u001b[0m\n",
      "\u001b[34mINFO:RabitTracker:[0]#011train-error:0.33086#011validation-error:0.33086\u001b[0m\n",
      "\u001b[34mINFO:RabitTracker:[1]#011train-error:0.33084#011validation-error:0.33084\u001b[0m\n",
      "\u001b[34mINFO:RabitTracker:[2]#011train-error:0.33097#011validation-error:0.33097\u001b[0m\n",
      "\u001b[34mINFO:RabitTracker:[3]#011train-error:0.33101#011validation-error:0.33101\u001b[0m\n",
      "\u001b[34mINFO:RabitTracker:[4]#011train-error:0.33102#011validation-error:0.33102\u001b[0m\n",
      "\u001b[34mINFO:RabitTracker:[5]#011train-error:0.33098#011validation-error:0.33098\u001b[0m\n",
      "\u001b[34mINFO:RabitTracker:[6]#011train-error:0.33093#011validation-error:0.33093\u001b[0m\n",
      "\u001b[34mINFO:RabitTracker:[7]#011train-error:0.33090#011validation-error:0.33090\u001b[0m\n",
      "\u001b[34mINFO:RabitTracker:[8]#011train-error:0.33094#011validation-error:0.33094\u001b[0m\n",
      "\u001b[34mINFO:RabitTracker:[9]#011train-error:0.33095#011validation-error:0.33095\u001b[0m\n",
      "\u001b[34mINFO:RabitTracker:[10]#011train-error:0.33095#011validation-error:0.33095\u001b[0m\n",
      "\u001b[34mINFO:RabitTracker:[11]#011train-error:0.33087#011validation-error:0.33087\u001b[0m\n",
      "\u001b[34mINFO:RabitTracker:[12]#011train-error:0.33087#011validation-error:0.33087\u001b[0m\n",
      "\u001b[34mINFO:RabitTracker:[13]#011train-error:0.33089#011validation-error:0.33089\u001b[0m\n",
      "\u001b[34mINFO:RabitTracker:[14]#011train-error:0.33090#011validation-error:0.33090\u001b[0m\n",
      "\u001b[34mINFO:RabitTracker:[15]#011train-error:0.33082#011validation-error:0.33082\u001b[0m\n",
      "\u001b[34mINFO:RabitTracker:[16]#011train-error:0.33077#011validation-error:0.33077\u001b[0m\n",
      "\u001b[34mINFO:RabitTracker:[17]#011train-error:0.33072#011validation-error:0.33072\u001b[0m\n",
      "\u001b[34mINFO:RabitTracker:[18]#011train-error:0.33071#011validation-error:0.33071\u001b[0m\n",
      "\u001b[34mINFO:RabitTracker:[19]#011train-error:0.33067#011validation-error:0.33067\u001b[0m\n",
      "\u001b[34mINFO:RabitTracker:[20]#011train-error:0.33061#011validation-error:0.33061\u001b[0m\n",
      "\u001b[34mINFO:RabitTracker:[21]#011train-error:0.33057#011validation-error:0.33057\u001b[0m\n",
      "\u001b[34mINFO:RabitTracker:[22]#011train-error:0.33050#011validation-error:0.33050\u001b[0m\n",
      "\u001b[34mINFO:RabitTracker:[23]#011train-error:0.33047#011validation-error:0.33047\u001b[0m\n",
      "\u001b[34mINFO:RabitTracker:[24]#011train-error:0.33041#011validation-error:0.33041\u001b[0m\n",
      "\u001b[34mINFO:RabitTracker:[25]#011train-error:0.33039#011validation-error:0.33039\u001b[0m\n",
      "\u001b[34mINFO:RabitTracker:[26]#011train-error:0.33032#011validation-error:0.33032\u001b[0m\n",
      "\u001b[34mINFO:RabitTracker:[27]#011train-error:0.33026#011validation-error:0.33026\u001b[0m\n",
      "\u001b[34mINFO:RabitTracker:[28]#011train-error:0.33026#011validation-error:0.33026\u001b[0m\n",
      "\u001b[34mINFO:RabitTracker:[29]#011train-error:0.33024#011validation-error:0.33024\u001b[0m\n",
      "\u001b[34mINFO:RabitTracker:[30]#011train-error:0.33020#011validation-error:0.33020\u001b[0m\n",
      "\u001b[34mINFO:RabitTracker:[31]#011train-error:0.33010#011validation-error:0.33010\u001b[0m\n",
      "\u001b[34mINFO:RabitTracker:[32]#011train-error:0.33008#011validation-error:0.33008\u001b[0m\n",
      "\u001b[34mINFO:RabitTracker:[33]#011train-error:0.33007#011validation-error:0.33007\u001b[0m\n",
      "\u001b[34mINFO:RabitTracker:[34]#011train-error:0.33003#011validation-error:0.33003\u001b[0m\n",
      "\u001b[34mINFO:RabitTracker:[35]#011train-error:0.33003#011validation-error:0.33003\u001b[0m\n",
      "\u001b[34mINFO:RabitTracker:[36]#011train-error:0.32991#011validation-error:0.32991\u001b[0m\n",
      "\u001b[34mINFO:RabitTracker:[37]#011train-error:0.32985#011validation-error:0.32985\u001b[0m\n",
      "\u001b[34mINFO:RabitTracker:[38]#011train-error:0.32973#011validation-error:0.32973\u001b[0m\n",
      "\u001b[34mINFO:RabitTracker:[39]#011train-error:0.32959#011validation-error:0.32959\u001b[0m\n",
      "\u001b[34mINFO:RabitTracker:[40]#011train-error:0.32955#011validation-error:0.32955\u001b[0m\n",
      "\u001b[34mINFO:RabitTracker:[41]#011train-error:0.32956#011validation-error:0.32956\u001b[0m\n",
      "\u001b[34mINFO:RabitTracker:[42]#011train-error:0.32954#011validation-error:0.32954\u001b[0m\n",
      "\u001b[34mINFO:RabitTracker:[43]#011train-error:0.32951#011validation-error:0.32951\u001b[0m\n",
      "\u001b[34mINFO:RabitTracker:[44]#011train-error:0.32946#011validation-error:0.32946\u001b[0m\n",
      "\u001b[34mINFO:RabitTracker:[45]#011train-error:0.32950#011validation-error:0.32950\u001b[0m\n",
      "\u001b[34mINFO:RabitTracker:[46]#011train-error:0.32934#011validation-error:0.32934\u001b[0m\n",
      "\u001b[34mINFO:RabitTracker:[47]#011train-error:0.32929#011validation-error:0.32929\u001b[0m\n",
      "\u001b[34mINFO:RabitTracker:[48]#011train-error:0.32926#011validation-error:0.32926\u001b[0m\n",
      "\u001b[34mINFO:RabitTracker:[49]#011train-error:0.32901#011validation-error:0.32901\u001b[0m\n",
      "\u001b[34mINFO:RabitTracker:[50]#011train-error:0.32886#011validation-error:0.32886\u001b[0m\n",
      "\u001b[34mINFO:RabitTracker:[51]#011train-error:0.32886#011validation-error:0.32886\u001b[0m\n",
      "\u001b[34mINFO:RabitTracker:[52]#011train-error:0.32889#011validation-error:0.32889\u001b[0m\n",
      "\u001b[34mINFO:RabitTracker:[53]#011train-error:0.32879#011validation-error:0.32879\u001b[0m\n",
      "\u001b[34mINFO:RabitTracker:[54]#011train-error:0.32882#011validation-error:0.32882\u001b[0m\n",
      "\u001b[34mINFO:RabitTracker:[55]#011train-error:0.32868#011validation-error:0.32868\u001b[0m\n",
      "\u001b[34mINFO:RabitTracker:[56]#011train-error:0.32862#011validation-error:0.32862\u001b[0m\n",
      "\u001b[34mINFO:RabitTracker:[57]#011train-error:0.32850#011validation-error:0.32850\u001b[0m\n",
      "\u001b[34mINFO:RabitTracker:[58]#011train-error:0.32845#011validation-error:0.32845\u001b[0m\n",
      "\u001b[34mINFO:RabitTracker:[59]#011train-error:0.32833#011validation-error:0.32833\u001b[0m\n",
      "\u001b[34mINFO:RabitTracker:[60]#011train-error:0.32826#011validation-error:0.32826\u001b[0m\n",
      "\u001b[34mINFO:RabitTracker:[61]#011train-error:0.32820#011validation-error:0.32820\u001b[0m\n",
      "\u001b[34mINFO:RabitTracker:[62]#011train-error:0.32816#011validation-error:0.32816\u001b[0m\n",
      "\u001b[34mINFO:RabitTracker:[63]#011train-error:0.32806#011validation-error:0.32806\u001b[0m\n",
      "\u001b[34mINFO:RabitTracker:[64]#011train-error:0.32779#011validation-error:0.32779\u001b[0m\n",
      "\u001b[34mINFO:RabitTracker:[65]#011train-error:0.32775#011validation-error:0.32775\u001b[0m\n",
      "\u001b[34mINFO:RabitTracker:[66]#011train-error:0.32776#011validation-error:0.32776\u001b[0m\n",
      "\u001b[34mINFO:RabitTracker:[67]#011train-error:0.32758#011validation-error:0.32758\u001b[0m\n",
      "\u001b[34mINFO:RabitTracker:[68]#011train-error:0.32756#011validation-error:0.32756\u001b[0m\n",
      "\u001b[34mINFO:RabitTracker:[69]#011train-error:0.32749#011validation-error:0.32749\u001b[0m\n",
      "\u001b[34mINFO:RabitTracker:[70]#011train-error:0.32743#011validation-error:0.32743\u001b[0m\n",
      "\u001b[34mINFO:RabitTracker:[71]#011train-error:0.32738#011validation-error:0.32738\u001b[0m\n",
      "\u001b[34mINFO:RabitTracker:[72]#011train-error:0.32731#011validation-error:0.32731\u001b[0m\n",
      "\u001b[34mINFO:RabitTracker:[73]#011train-error:0.32721#011validation-error:0.32721\u001b[0m\n",
      "\u001b[34mINFO:RabitTracker:[74]#011train-error:0.32722#011validation-error:0.32722\u001b[0m\n",
      "\u001b[34mINFO:RabitTracker:[75]#011train-error:0.32710#011validation-error:0.32710\u001b[0m\n",
      "\u001b[34mINFO:RabitTracker:[76]#011train-error:0.32709#011validation-error:0.32709\u001b[0m\n",
      "\u001b[34mINFO:RabitTracker:[77]#011train-error:0.32688#011validation-error:0.32688\u001b[0m\n",
      "\u001b[34mINFO:RabitTracker:[78]#011train-error:0.32676#011validation-error:0.32676\u001b[0m\n",
      "\u001b[34mINFO:RabitTracker:[79]#011train-error:0.32661#011validation-error:0.32661\u001b[0m\n",
      "\u001b[34mINFO:RabitTracker:[80]#011train-error:0.32658#011validation-error:0.32658\u001b[0m\n",
      "\u001b[34mINFO:RabitTracker:[81]#011train-error:0.32648#011validation-error:0.32648\u001b[0m\n",
      "\u001b[34mINFO:RabitTracker:[82]#011train-error:0.32635#011validation-error:0.32635\u001b[0m\n",
      "\u001b[34mINFO:RabitTracker:[83]#011train-error:0.32628#011validation-error:0.32628\u001b[0m\n",
      "\u001b[34mINFO:RabitTracker:[84]#011train-error:0.32617#011validation-error:0.32617\u001b[0m\n",
      "\u001b[34mINFO:RabitTracker:[85]#011train-error:0.32609#011validation-error:0.32609\u001b[0m\n",
      "\u001b[34mINFO:RabitTracker:[86]#011train-error:0.32605#011validation-error:0.32605\u001b[0m\n",
      "\u001b[34mINFO:RabitTracker:[87]#011train-error:0.32589#011validation-error:0.32589\u001b[0m\n",
      "\u001b[34mINFO:RabitTracker:[88]#011train-error:0.32577#011validation-error:0.32577\u001b[0m\n",
      "\u001b[34mINFO:RabitTracker:[89]#011train-error:0.32569#011validation-error:0.32569\u001b[0m\n",
      "\u001b[34mINFO:RabitTracker:[90]#011train-error:0.32556#011validation-error:0.32556\u001b[0m\n",
      "\u001b[34mINFO:RabitTracker:[91]#011train-error:0.32558#011validation-error:0.32558\u001b[0m\n",
      "\u001b[34mINFO:RabitTracker:[92]#011train-error:0.32546#011validation-error:0.32546\u001b[0m\n",
      "\u001b[34mINFO:RabitTracker:[93]#011train-error:0.32532#011validation-error:0.32532\u001b[0m\n",
      "\u001b[34mINFO:RabitTracker:[94]#011train-error:0.32517#011validation-error:0.32517\u001b[0m\n",
      "\u001b[34mINFO:RabitTracker:[95]#011train-error:0.32519#011validation-error:0.32519\u001b[0m\n",
      "\u001b[34mINFO:RabitTracker:[96]#011train-error:0.32514#011validation-error:0.32514\u001b[0m\n",
      "\u001b[34mINFO:RabitTracker:[97]#011train-error:0.32504#011validation-error:0.32504\u001b[0m\n",
      "\u001b[34mINFO:RabitTracker:[98]#011train-error:0.32486#011validation-error:0.32486\u001b[0m\n",
      "\u001b[34mINFO:RabitTracker:[99]#011train-error:0.32484#011validation-error:0.32484\u001b[0m\n",
      "\u001b[34mINFO:RabitTracker:@tracker All nodes finishes job\u001b[0m\n",
      "\u001b[34mINFO:RabitTracker:@tracker 30.588939905166626 secs between node start and job finish\u001b[0m\n",
      "\n",
      "2023-05-22 22:35:29 Uploading - Uploading generated training model\n",
      "2023-05-22 22:35:29 Completed - Training job completed\n",
      "Training seconds: 224\n",
      "Billable seconds: 224\n"
     ]
    }
   ],
   "source": [
    "xgb.fit({'train': train_set_pointer, 'validation': validation_set_pointer})"
   ]
  },
  {
   "cell_type": "code",
   "execution_count": 90,
   "metadata": {
    "tags": []
   },
   "outputs": [
    {
     "name": "stdout",
     "output_type": "stream",
     "text": [
      "Stored 'training_jobName' (str)\n"
     ]
    }
   ],
   "source": [
    "# Saving training job information to be used in subsequent modeules\n",
    "training_job_info = xgb.latest_training_job.describe()\n",
    "if training_job_info != None :\n",
    "    training_jobName = training_job_info[\"TrainingJobName\"]\n",
    "    %store training_jobName"
   ]
  },
  {
   "cell_type": "code",
   "execution_count": 91,
   "metadata": {
    "tags": []
   },
   "outputs": [
    {
     "name": "stdout",
     "output_type": "stream",
     "text": [
      "------!"
     ]
    }
   ],
   "source": [
    "xgb_predictor = xgb.deploy(initial_instance_count=2,\n",
    "                           instance_type='ml.m5.xlarge')"
   ]
  },
  {
   "cell_type": "code",
   "execution_count": 92,
   "metadata": {
    "tags": []
   },
   "outputs": [
    {
     "name": "stdout",
     "output_type": "stream",
     "text": [
      "Stored 'endpoint_name' (str)\n"
     ]
    }
   ],
   "source": [
    "# Saving endpoint name to be used in subsequent modules\n",
    "endpoint_name = xgb_predictor.endpoint_name\n",
    "%store endpoint_name"
   ]
  },
  {
   "cell_type": "markdown",
   "metadata": {},
   "source": [
    "### Real time inference using the deployed endpoint\n",
    "<a id='real-time-inference' />"
   ]
  },
  {
   "cell_type": "markdown",
   "metadata": {},
   "source": [
    "Lets get a record from test data and test the inference."
   ]
  },
  {
   "cell_type": "code",
   "execution_count": 93,
   "metadata": {
    "tags": []
   },
   "outputs": [],
   "source": [
    "csv_serializer = CSVSerializer()\n",
    "endpoint_name = xgb_predictor.endpoint_name\n",
    "predictor = Predictor(endpoint_name=endpoint_name, \n",
    "                      serializer=csv_serializer)"
   ]
  },
  {
   "cell_type": "code",
   "execution_count": 94,
   "metadata": {
    "tags": []
   },
   "outputs": [
    {
     "data": {
      "text/html": [
       "<div>\n",
       "<style scoped>\n",
       "    .dataframe tbody tr th:only-of-type {\n",
       "        vertical-align: middle;\n",
       "    }\n",
       "\n",
       "    .dataframe tbody tr th {\n",
       "        vertical-align: top;\n",
       "    }\n",
       "\n",
       "    .dataframe thead th {\n",
       "        text-align: right;\n",
       "    }\n",
       "</style>\n",
       "<table border=\"1\" class=\"dataframe\">\n",
       "  <thead>\n",
       "    <tr style=\"text-align: right;\">\n",
       "      <th></th>\n",
       "      <th>is_reordered</th>\n",
       "      <th>sex</th>\n",
       "      <th>is_married</th>\n",
       "      <th>age_18-29</th>\n",
       "      <th>age_30-39</th>\n",
       "      <th>age_40-49</th>\n",
       "      <th>age_50-59</th>\n",
       "      <th>age_60-69</th>\n",
       "      <th>age_70-plus</th>\n",
       "      <th>n_days_active</th>\n",
       "      <th>...</th>\n",
       "      <th>category_hair_care</th>\n",
       "      <th>category_ice_cream_ice</th>\n",
       "      <th>category_juice_nectars</th>\n",
       "      <th>category_packaged_cheese</th>\n",
       "      <th>category_refrigerated</th>\n",
       "      <th>category_soup_broth_bouillon</th>\n",
       "      <th>category_spices_seasonings</th>\n",
       "      <th>category_tea</th>\n",
       "      <th>category_vitamins_supplements</th>\n",
       "      <th>category_yogurt</th>\n",
       "    </tr>\n",
       "  </thead>\n",
       "  <tbody>\n",
       "    <tr>\n",
       "      <th>5980</th>\n",
       "      <td>1</td>\n",
       "      <td>0</td>\n",
       "      <td>1</td>\n",
       "      <td>0</td>\n",
       "      <td>0</td>\n",
       "      <td>1</td>\n",
       "      <td>0</td>\n",
       "      <td>0</td>\n",
       "      <td>0</td>\n",
       "      <td>0.031507</td>\n",
       "      <td>...</td>\n",
       "      <td>0</td>\n",
       "      <td>0</td>\n",
       "      <td>0</td>\n",
       "      <td>1</td>\n",
       "      <td>0</td>\n",
       "      <td>0</td>\n",
       "      <td>0</td>\n",
       "      <td>0</td>\n",
       "      <td>0</td>\n",
       "      <td>0</td>\n",
       "    </tr>\n",
       "  </tbody>\n",
       "</table>\n",
       "<p>1 rows × 31 columns</p>\n",
       "</div>"
      ],
      "text/plain": [
       "      is_reordered  sex  is_married  age_18-29  age_30-39  age_40-49  \\\n",
       "5980             1    0           1          0          0          1   \n",
       "\n",
       "      age_50-59  age_60-69  age_70-plus  n_days_active  ...  \\\n",
       "5980          0          0            0       0.031507  ...   \n",
       "\n",
       "      category_hair_care  category_ice_cream_ice  category_juice_nectars  \\\n",
       "5980                   0                       0                       0   \n",
       "\n",
       "      category_packaged_cheese  category_refrigerated  \\\n",
       "5980                         1                      0   \n",
       "\n",
       "      category_soup_broth_bouillon  category_spices_seasonings  category_tea  \\\n",
       "5980                             0                           0             0   \n",
       "\n",
       "      category_vitamins_supplements  category_yogurt  \n",
       "5980                              0                0  \n",
       "\n",
       "[1 rows x 31 columns]"
      ]
     },
     "execution_count": 94,
     "metadata": {},
     "output_type": "execute_result"
    }
   ],
   "source": [
    "test_df = pd.read_csv('./data/retrain/test.csv')\n",
    "record = test_df.sample(1)\n",
    "record"
   ]
  },
  {
   "cell_type": "code",
   "execution_count": 95,
   "metadata": {
    "tags": []
   },
   "outputs": [
    {
     "data": {
      "text/html": [
       "<div>\n",
       "<style scoped>\n",
       "    .dataframe tbody tr th:only-of-type {\n",
       "        vertical-align: middle;\n",
       "    }\n",
       "\n",
       "    .dataframe tbody tr th {\n",
       "        vertical-align: top;\n",
       "    }\n",
       "\n",
       "    .dataframe thead th {\n",
       "        text-align: right;\n",
       "    }\n",
       "</style>\n",
       "<table border=\"1\" class=\"dataframe\">\n",
       "  <thead>\n",
       "    <tr style=\"text-align: right;\">\n",
       "      <th></th>\n",
       "      <th>is_reordered</th>\n",
       "      <th>sex</th>\n",
       "      <th>is_married</th>\n",
       "      <th>age_18-29</th>\n",
       "      <th>age_30-39</th>\n",
       "      <th>age_40-49</th>\n",
       "      <th>age_50-59</th>\n",
       "      <th>age_60-69</th>\n",
       "      <th>age_70-plus</th>\n",
       "      <th>n_days_active</th>\n",
       "      <th>...</th>\n",
       "      <th>category_hair_care</th>\n",
       "      <th>category_ice_cream_ice</th>\n",
       "      <th>category_juice_nectars</th>\n",
       "      <th>category_packaged_cheese</th>\n",
       "      <th>category_refrigerated</th>\n",
       "      <th>category_soup_broth_bouillon</th>\n",
       "      <th>category_spices_seasonings</th>\n",
       "      <th>category_tea</th>\n",
       "      <th>category_vitamins_supplements</th>\n",
       "      <th>category_yogurt</th>\n",
       "    </tr>\n",
       "  </thead>\n",
       "  <tbody>\n",
       "    <tr>\n",
       "      <th>0</th>\n",
       "      <td>0</td>\n",
       "      <td>1</td>\n",
       "      <td>0</td>\n",
       "      <td>0</td>\n",
       "      <td>0</td>\n",
       "      <td>0</td>\n",
       "      <td>0</td>\n",
       "      <td>0</td>\n",
       "      <td>1</td>\n",
       "      <td>0.862329</td>\n",
       "      <td>...</td>\n",
       "      <td>0</td>\n",
       "      <td>0</td>\n",
       "      <td>0</td>\n",
       "      <td>0</td>\n",
       "      <td>0</td>\n",
       "      <td>0</td>\n",
       "      <td>0</td>\n",
       "      <td>0</td>\n",
       "      <td>0</td>\n",
       "      <td>1</td>\n",
       "    </tr>\n",
       "    <tr>\n",
       "      <th>1</th>\n",
       "      <td>1</td>\n",
       "      <td>0</td>\n",
       "      <td>0</td>\n",
       "      <td>1</td>\n",
       "      <td>0</td>\n",
       "      <td>0</td>\n",
       "      <td>0</td>\n",
       "      <td>0</td>\n",
       "      <td>0</td>\n",
       "      <td>0.288356</td>\n",
       "      <td>...</td>\n",
       "      <td>0</td>\n",
       "      <td>0</td>\n",
       "      <td>0</td>\n",
       "      <td>0</td>\n",
       "      <td>0</td>\n",
       "      <td>0</td>\n",
       "      <td>0</td>\n",
       "      <td>0</td>\n",
       "      <td>0</td>\n",
       "      <td>0</td>\n",
       "    </tr>\n",
       "    <tr>\n",
       "      <th>2</th>\n",
       "      <td>0</td>\n",
       "      <td>0</td>\n",
       "      <td>1</td>\n",
       "      <td>0</td>\n",
       "      <td>0</td>\n",
       "      <td>0</td>\n",
       "      <td>0</td>\n",
       "      <td>1</td>\n",
       "      <td>0</td>\n",
       "      <td>0.288356</td>\n",
       "      <td>...</td>\n",
       "      <td>0</td>\n",
       "      <td>0</td>\n",
       "      <td>0</td>\n",
       "      <td>0</td>\n",
       "      <td>0</td>\n",
       "      <td>0</td>\n",
       "      <td>0</td>\n",
       "      <td>0</td>\n",
       "      <td>0</td>\n",
       "      <td>0</td>\n",
       "    </tr>\n",
       "    <tr>\n",
       "      <th>3</th>\n",
       "      <td>1</td>\n",
       "      <td>0</td>\n",
       "      <td>0</td>\n",
       "      <td>0</td>\n",
       "      <td>1</td>\n",
       "      <td>0</td>\n",
       "      <td>0</td>\n",
       "      <td>0</td>\n",
       "      <td>0</td>\n",
       "      <td>0.352055</td>\n",
       "      <td>...</td>\n",
       "      <td>0</td>\n",
       "      <td>0</td>\n",
       "      <td>1</td>\n",
       "      <td>0</td>\n",
       "      <td>0</td>\n",
       "      <td>0</td>\n",
       "      <td>0</td>\n",
       "      <td>0</td>\n",
       "      <td>0</td>\n",
       "      <td>0</td>\n",
       "    </tr>\n",
       "    <tr>\n",
       "      <th>4</th>\n",
       "      <td>1</td>\n",
       "      <td>1</td>\n",
       "      <td>0</td>\n",
       "      <td>0</td>\n",
       "      <td>0</td>\n",
       "      <td>1</td>\n",
       "      <td>0</td>\n",
       "      <td>0</td>\n",
       "      <td>0</td>\n",
       "      <td>0.574658</td>\n",
       "      <td>...</td>\n",
       "      <td>0</td>\n",
       "      <td>0</td>\n",
       "      <td>0</td>\n",
       "      <td>0</td>\n",
       "      <td>0</td>\n",
       "      <td>0</td>\n",
       "      <td>0</td>\n",
       "      <td>0</td>\n",
       "      <td>0</td>\n",
       "      <td>0</td>\n",
       "    </tr>\n",
       "    <tr>\n",
       "      <th>...</th>\n",
       "      <td>...</td>\n",
       "      <td>...</td>\n",
       "      <td>...</td>\n",
       "      <td>...</td>\n",
       "      <td>...</td>\n",
       "      <td>...</td>\n",
       "      <td>...</td>\n",
       "      <td>...</td>\n",
       "      <td>...</td>\n",
       "      <td>...</td>\n",
       "      <td>...</td>\n",
       "      <td>...</td>\n",
       "      <td>...</td>\n",
       "      <td>...</td>\n",
       "      <td>...</td>\n",
       "      <td>...</td>\n",
       "      <td>...</td>\n",
       "      <td>...</td>\n",
       "      <td>...</td>\n",
       "      <td>...</td>\n",
       "      <td>...</td>\n",
       "    </tr>\n",
       "    <tr>\n",
       "      <th>9994</th>\n",
       "      <td>1</td>\n",
       "      <td>0</td>\n",
       "      <td>0</td>\n",
       "      <td>0</td>\n",
       "      <td>0</td>\n",
       "      <td>1</td>\n",
       "      <td>0</td>\n",
       "      <td>0</td>\n",
       "      <td>0</td>\n",
       "      <td>0.341781</td>\n",
       "      <td>...</td>\n",
       "      <td>0</td>\n",
       "      <td>0</td>\n",
       "      <td>0</td>\n",
       "      <td>0</td>\n",
       "      <td>0</td>\n",
       "      <td>0</td>\n",
       "      <td>0</td>\n",
       "      <td>0</td>\n",
       "      <td>0</td>\n",
       "      <td>0</td>\n",
       "    </tr>\n",
       "    <tr>\n",
       "      <th>9995</th>\n",
       "      <td>1</td>\n",
       "      <td>1</td>\n",
       "      <td>1</td>\n",
       "      <td>1</td>\n",
       "      <td>0</td>\n",
       "      <td>0</td>\n",
       "      <td>0</td>\n",
       "      <td>0</td>\n",
       "      <td>0</td>\n",
       "      <td>0.745205</td>\n",
       "      <td>...</td>\n",
       "      <td>0</td>\n",
       "      <td>0</td>\n",
       "      <td>0</td>\n",
       "      <td>0</td>\n",
       "      <td>0</td>\n",
       "      <td>0</td>\n",
       "      <td>0</td>\n",
       "      <td>0</td>\n",
       "      <td>0</td>\n",
       "      <td>1</td>\n",
       "    </tr>\n",
       "    <tr>\n",
       "      <th>9996</th>\n",
       "      <td>0</td>\n",
       "      <td>0</td>\n",
       "      <td>1</td>\n",
       "      <td>0</td>\n",
       "      <td>0</td>\n",
       "      <td>0</td>\n",
       "      <td>0</td>\n",
       "      <td>0</td>\n",
       "      <td>1</td>\n",
       "      <td>0.991781</td>\n",
       "      <td>...</td>\n",
       "      <td>0</td>\n",
       "      <td>0</td>\n",
       "      <td>1</td>\n",
       "      <td>0</td>\n",
       "      <td>0</td>\n",
       "      <td>0</td>\n",
       "      <td>0</td>\n",
       "      <td>0</td>\n",
       "      <td>0</td>\n",
       "      <td>0</td>\n",
       "    </tr>\n",
       "    <tr>\n",
       "      <th>9997</th>\n",
       "      <td>0</td>\n",
       "      <td>1</td>\n",
       "      <td>1</td>\n",
       "      <td>0</td>\n",
       "      <td>1</td>\n",
       "      <td>0</td>\n",
       "      <td>0</td>\n",
       "      <td>0</td>\n",
       "      <td>0</td>\n",
       "      <td>0.729452</td>\n",
       "      <td>...</td>\n",
       "      <td>0</td>\n",
       "      <td>0</td>\n",
       "      <td>0</td>\n",
       "      <td>1</td>\n",
       "      <td>0</td>\n",
       "      <td>0</td>\n",
       "      <td>0</td>\n",
       "      <td>0</td>\n",
       "      <td>0</td>\n",
       "      <td>0</td>\n",
       "    </tr>\n",
       "    <tr>\n",
       "      <th>9998</th>\n",
       "      <td>1</td>\n",
       "      <td>1</td>\n",
       "      <td>0</td>\n",
       "      <td>0</td>\n",
       "      <td>0</td>\n",
       "      <td>0</td>\n",
       "      <td>0</td>\n",
       "      <td>1</td>\n",
       "      <td>0</td>\n",
       "      <td>0.515068</td>\n",
       "      <td>...</td>\n",
       "      <td>0</td>\n",
       "      <td>0</td>\n",
       "      <td>0</td>\n",
       "      <td>0</td>\n",
       "      <td>0</td>\n",
       "      <td>0</td>\n",
       "      <td>0</td>\n",
       "      <td>0</td>\n",
       "      <td>0</td>\n",
       "      <td>0</td>\n",
       "    </tr>\n",
       "  </tbody>\n",
       "</table>\n",
       "<p>9999 rows × 31 columns</p>\n",
       "</div>"
      ],
      "text/plain": [
       "      is_reordered  sex  is_married  age_18-29  age_30-39  age_40-49  \\\n",
       "0                0    1           0          0          0          0   \n",
       "1                1    0           0          1          0          0   \n",
       "2                0    0           1          0          0          0   \n",
       "3                1    0           0          0          1          0   \n",
       "4                1    1           0          0          0          1   \n",
       "...            ...  ...         ...        ...        ...        ...   \n",
       "9994             1    0           0          0          0          1   \n",
       "9995             1    1           1          1          0          0   \n",
       "9996             0    0           1          0          0          0   \n",
       "9997             0    1           1          0          1          0   \n",
       "9998             1    1           0          0          0          0   \n",
       "\n",
       "      age_50-59  age_60-69  age_70-plus  n_days_active  ...  \\\n",
       "0             0          0            1       0.862329  ...   \n",
       "1             0          0            0       0.288356  ...   \n",
       "2             0          1            0       0.288356  ...   \n",
       "3             0          0            0       0.352055  ...   \n",
       "4             0          0            0       0.574658  ...   \n",
       "...         ...        ...          ...            ...  ...   \n",
       "9994          0          0            0       0.341781  ...   \n",
       "9995          0          0            0       0.745205  ...   \n",
       "9996          0          0            1       0.991781  ...   \n",
       "9997          0          0            0       0.729452  ...   \n",
       "9998          0          1            0       0.515068  ...   \n",
       "\n",
       "      category_hair_care  category_ice_cream_ice  category_juice_nectars  \\\n",
       "0                      0                       0                       0   \n",
       "1                      0                       0                       0   \n",
       "2                      0                       0                       0   \n",
       "3                      0                       0                       1   \n",
       "4                      0                       0                       0   \n",
       "...                  ...                     ...                     ...   \n",
       "9994                   0                       0                       0   \n",
       "9995                   0                       0                       0   \n",
       "9996                   0                       0                       1   \n",
       "9997                   0                       0                       0   \n",
       "9998                   0                       0                       0   \n",
       "\n",
       "      category_packaged_cheese  category_refrigerated  \\\n",
       "0                            0                      0   \n",
       "1                            0                      0   \n",
       "2                            0                      0   \n",
       "3                            0                      0   \n",
       "4                            0                      0   \n",
       "...                        ...                    ...   \n",
       "9994                         0                      0   \n",
       "9995                         0                      0   \n",
       "9996                         0                      0   \n",
       "9997                         1                      0   \n",
       "9998                         0                      0   \n",
       "\n",
       "      category_soup_broth_bouillon  category_spices_seasonings  category_tea  \\\n",
       "0                                0                           0             0   \n",
       "1                                0                           0             0   \n",
       "2                                0                           0             0   \n",
       "3                                0                           0             0   \n",
       "4                                0                           0             0   \n",
       "...                            ...                         ...           ...   \n",
       "9994                             0                           0             0   \n",
       "9995                             0                           0             0   \n",
       "9996                             0                           0             0   \n",
       "9997                             0                           0             0   \n",
       "9998                             0                           0             0   \n",
       "\n",
       "      category_vitamins_supplements  category_yogurt  \n",
       "0                                 0                1  \n",
       "1                                 0                0  \n",
       "2                                 0                0  \n",
       "3                                 0                0  \n",
       "4                                 0                0  \n",
       "...                             ...              ...  \n",
       "9994                              0                0  \n",
       "9995                              0                1  \n",
       "9996                              0                0  \n",
       "9997                              0                0  \n",
       "9998                              0                0  \n",
       "\n",
       "[9999 rows x 31 columns]"
      ]
     },
     "execution_count": 95,
     "metadata": {},
     "output_type": "execute_result"
    }
   ],
   "source": [
    "test_df = pd.read_csv('./data/retrain/test.csv')\n",
    "test_df"
   ]
  },
  {
   "cell_type": "code",
   "execution_count": 96,
   "metadata": {
    "tags": []
   },
   "outputs": [
    {
     "data": {
      "text/plain": [
       "array([0.        , 1.        , 0.        , 0.        , 1.        ,\n",
       "       0.        , 0.        , 0.        , 0.03150685, 1.        ,\n",
       "       0.        , 0.        , 0.        , 0.        , 0.        ,\n",
       "       0.        , 0.        , 0.        , 0.        , 0.        ,\n",
       "       0.        , 0.        , 0.        , 1.        , 0.        ,\n",
       "       0.        , 0.        , 0.        , 0.        , 0.        ])"
      ]
     },
     "execution_count": 96,
     "metadata": {},
     "output_type": "execute_result"
    }
   ],
   "source": [
    "X = record.values[0]\n",
    "payload = X[1:]\n",
    "payload"
   ]
  },
  {
   "cell_type": "code",
   "execution_count": 97,
   "metadata": {
    "tags": []
   },
   "outputs": [
    {
     "name": "stderr",
     "output_type": "stream",
     "text": [
      "Predicted calss probability 0.7311009168624878\n",
      "Prediction (y) = Will reorder\n"
     ]
    },
    {
     "name": "stdout",
     "output_type": "stream",
     "text": [
      "CPU times: user 14.7 ms, sys: 0 ns, total: 14.7 ms\n",
      "Wall time: 112 ms\n"
     ]
    }
   ],
   "source": [
    "%%time\n",
    "\n",
    "predicted_class_prob = predictor.predict(payload).decode('utf-8')\n",
    "logger.info(f'Predicted calss probability {predicted_class_prob}')\n",
    "if float(predicted_class_prob) < 0.5:\n",
    "    logger.info('Prediction (y) = Will not reorder')\n",
    "else:\n",
    "    logger.info('Prediction (y) = Will reorder')"
   ]
  },
  {
   "cell_type": "markdown",
   "metadata": {},
   "source": [
    "### Cleanup"
   ]
  },
  {
   "cell_type": "markdown",
   "metadata": {},
   "source": [
    "Now that we have seen how features can be added to feature groups, it is time to delete unwated resources like endpoints to not incur charges"
   ]
  },
  {
   "cell_type": "code",
   "execution_count": null,
   "metadata": {},
   "outputs": [],
   "source": [
    "describe_feature_group_result = sagemaker_runtime.describe_feature_group(\n",
    "    FeatureGroupName=customers_feature_group_name\n",
    ")\n",
    "pretty_printer.pprint(describe_feature_group_result)"
   ]
  },
  {
   "cell_type": "markdown",
   "metadata": {},
   "source": [
    "Delete the endpoint"
   ]
  },
  {
   "cell_type": "code",
   "execution_count": null,
   "metadata": {},
   "outputs": [],
   "source": [
    "response = sagemaker_runtime.describe_endpoint_config(EndpointConfigName=endpoint_name)\n",
    "model_name = response['ProductionVariants'][0]['ModelName']\n",
    "model_name"
   ]
  },
  {
   "cell_type": "code",
   "execution_count": null,
   "metadata": {},
   "outputs": [],
   "source": [
    "sagemaker_runtime.delete_model(ModelName=model_name)  "
   ]
  },
  {
   "cell_type": "code",
   "execution_count": null,
   "metadata": {},
   "outputs": [],
   "source": [
    "sagemaker_runtime.delete_endpoint(EndpointName=endpoint_name)"
   ]
  },
  {
   "cell_type": "code",
   "execution_count": null,
   "metadata": {},
   "outputs": [],
   "source": [
    "sagemaker_runtime.delete_endpoint_config(EndpointConfigName=endpoint_name)"
   ]
  },
  {
   "cell_type": "code",
   "execution_count": null,
   "metadata": {},
   "outputs": [],
   "source": []
  }
 ],
 "metadata": {
  "availableInstances": [
   {
    "_defaultOrder": 0,
    "_isFastLaunch": true,
    "category": "General purpose",
    "gpuNum": 0,
    "hideHardwareSpecs": false,
    "memoryGiB": 4,
    "name": "ml.t3.medium",
    "vcpuNum": 2
   },
   {
    "_defaultOrder": 1,
    "_isFastLaunch": false,
    "category": "General purpose",
    "gpuNum": 0,
    "hideHardwareSpecs": false,
    "memoryGiB": 8,
    "name": "ml.t3.large",
    "vcpuNum": 2
   },
   {
    "_defaultOrder": 2,
    "_isFastLaunch": false,
    "category": "General purpose",
    "gpuNum": 0,
    "hideHardwareSpecs": false,
    "memoryGiB": 16,
    "name": "ml.t3.xlarge",
    "vcpuNum": 4
   },
   {
    "_defaultOrder": 3,
    "_isFastLaunch": false,
    "category": "General purpose",
    "gpuNum": 0,
    "hideHardwareSpecs": false,
    "memoryGiB": 32,
    "name": "ml.t3.2xlarge",
    "vcpuNum": 8
   },
   {
    "_defaultOrder": 4,
    "_isFastLaunch": true,
    "category": "General purpose",
    "gpuNum": 0,
    "hideHardwareSpecs": false,
    "memoryGiB": 8,
    "name": "ml.m5.large",
    "vcpuNum": 2
   },
   {
    "_defaultOrder": 5,
    "_isFastLaunch": false,
    "category": "General purpose",
    "gpuNum": 0,
    "hideHardwareSpecs": false,
    "memoryGiB": 16,
    "name": "ml.m5.xlarge",
    "vcpuNum": 4
   },
   {
    "_defaultOrder": 6,
    "_isFastLaunch": false,
    "category": "General purpose",
    "gpuNum": 0,
    "hideHardwareSpecs": false,
    "memoryGiB": 32,
    "name": "ml.m5.2xlarge",
    "vcpuNum": 8
   },
   {
    "_defaultOrder": 7,
    "_isFastLaunch": false,
    "category": "General purpose",
    "gpuNum": 0,
    "hideHardwareSpecs": false,
    "memoryGiB": 64,
    "name": "ml.m5.4xlarge",
    "vcpuNum": 16
   },
   {
    "_defaultOrder": 8,
    "_isFastLaunch": false,
    "category": "General purpose",
    "gpuNum": 0,
    "hideHardwareSpecs": false,
    "memoryGiB": 128,
    "name": "ml.m5.8xlarge",
    "vcpuNum": 32
   },
   {
    "_defaultOrder": 9,
    "_isFastLaunch": false,
    "category": "General purpose",
    "gpuNum": 0,
    "hideHardwareSpecs": false,
    "memoryGiB": 192,
    "name": "ml.m5.12xlarge",
    "vcpuNum": 48
   },
   {
    "_defaultOrder": 10,
    "_isFastLaunch": false,
    "category": "General purpose",
    "gpuNum": 0,
    "hideHardwareSpecs": false,
    "memoryGiB": 256,
    "name": "ml.m5.16xlarge",
    "vcpuNum": 64
   },
   {
    "_defaultOrder": 11,
    "_isFastLaunch": false,
    "category": "General purpose",
    "gpuNum": 0,
    "hideHardwareSpecs": false,
    "memoryGiB": 384,
    "name": "ml.m5.24xlarge",
    "vcpuNum": 96
   },
   {
    "_defaultOrder": 12,
    "_isFastLaunch": false,
    "category": "General purpose",
    "gpuNum": 0,
    "hideHardwareSpecs": false,
    "memoryGiB": 8,
    "name": "ml.m5d.large",
    "vcpuNum": 2
   },
   {
    "_defaultOrder": 13,
    "_isFastLaunch": false,
    "category": "General purpose",
    "gpuNum": 0,
    "hideHardwareSpecs": false,
    "memoryGiB": 16,
    "name": "ml.m5d.xlarge",
    "vcpuNum": 4
   },
   {
    "_defaultOrder": 14,
    "_isFastLaunch": false,
    "category": "General purpose",
    "gpuNum": 0,
    "hideHardwareSpecs": false,
    "memoryGiB": 32,
    "name": "ml.m5d.2xlarge",
    "vcpuNum": 8
   },
   {
    "_defaultOrder": 15,
    "_isFastLaunch": false,
    "category": "General purpose",
    "gpuNum": 0,
    "hideHardwareSpecs": false,
    "memoryGiB": 64,
    "name": "ml.m5d.4xlarge",
    "vcpuNum": 16
   },
   {
    "_defaultOrder": 16,
    "_isFastLaunch": false,
    "category": "General purpose",
    "gpuNum": 0,
    "hideHardwareSpecs": false,
    "memoryGiB": 128,
    "name": "ml.m5d.8xlarge",
    "vcpuNum": 32
   },
   {
    "_defaultOrder": 17,
    "_isFastLaunch": false,
    "category": "General purpose",
    "gpuNum": 0,
    "hideHardwareSpecs": false,
    "memoryGiB": 192,
    "name": "ml.m5d.12xlarge",
    "vcpuNum": 48
   },
   {
    "_defaultOrder": 18,
    "_isFastLaunch": false,
    "category": "General purpose",
    "gpuNum": 0,
    "hideHardwareSpecs": false,
    "memoryGiB": 256,
    "name": "ml.m5d.16xlarge",
    "vcpuNum": 64
   },
   {
    "_defaultOrder": 19,
    "_isFastLaunch": false,
    "category": "General purpose",
    "gpuNum": 0,
    "hideHardwareSpecs": false,
    "memoryGiB": 384,
    "name": "ml.m5d.24xlarge",
    "vcpuNum": 96
   },
   {
    "_defaultOrder": 20,
    "_isFastLaunch": false,
    "category": "General purpose",
    "gpuNum": 0,
    "hideHardwareSpecs": true,
    "memoryGiB": 0,
    "name": "ml.geospatial.interactive",
    "supportedImageNames": [
     "sagemaker-geospatial-v1-0"
    ],
    "vcpuNum": 0
   },
   {
    "_defaultOrder": 21,
    "_isFastLaunch": true,
    "category": "Compute optimized",
    "gpuNum": 0,
    "hideHardwareSpecs": false,
    "memoryGiB": 4,
    "name": "ml.c5.large",
    "vcpuNum": 2
   },
   {
    "_defaultOrder": 22,
    "_isFastLaunch": false,
    "category": "Compute optimized",
    "gpuNum": 0,
    "hideHardwareSpecs": false,
    "memoryGiB": 8,
    "name": "ml.c5.xlarge",
    "vcpuNum": 4
   },
   {
    "_defaultOrder": 23,
    "_isFastLaunch": false,
    "category": "Compute optimized",
    "gpuNum": 0,
    "hideHardwareSpecs": false,
    "memoryGiB": 16,
    "name": "ml.c5.2xlarge",
    "vcpuNum": 8
   },
   {
    "_defaultOrder": 24,
    "_isFastLaunch": false,
    "category": "Compute optimized",
    "gpuNum": 0,
    "hideHardwareSpecs": false,
    "memoryGiB": 32,
    "name": "ml.c5.4xlarge",
    "vcpuNum": 16
   },
   {
    "_defaultOrder": 25,
    "_isFastLaunch": false,
    "category": "Compute optimized",
    "gpuNum": 0,
    "hideHardwareSpecs": false,
    "memoryGiB": 72,
    "name": "ml.c5.9xlarge",
    "vcpuNum": 36
   },
   {
    "_defaultOrder": 26,
    "_isFastLaunch": false,
    "category": "Compute optimized",
    "gpuNum": 0,
    "hideHardwareSpecs": false,
    "memoryGiB": 96,
    "name": "ml.c5.12xlarge",
    "vcpuNum": 48
   },
   {
    "_defaultOrder": 27,
    "_isFastLaunch": false,
    "category": "Compute optimized",
    "gpuNum": 0,
    "hideHardwareSpecs": false,
    "memoryGiB": 144,
    "name": "ml.c5.18xlarge",
    "vcpuNum": 72
   },
   {
    "_defaultOrder": 28,
    "_isFastLaunch": false,
    "category": "Compute optimized",
    "gpuNum": 0,
    "hideHardwareSpecs": false,
    "memoryGiB": 192,
    "name": "ml.c5.24xlarge",
    "vcpuNum": 96
   },
   {
    "_defaultOrder": 29,
    "_isFastLaunch": true,
    "category": "Accelerated computing",
    "gpuNum": 1,
    "hideHardwareSpecs": false,
    "memoryGiB": 16,
    "name": "ml.g4dn.xlarge",
    "vcpuNum": 4
   },
   {
    "_defaultOrder": 30,
    "_isFastLaunch": false,
    "category": "Accelerated computing",
    "gpuNum": 1,
    "hideHardwareSpecs": false,
    "memoryGiB": 32,
    "name": "ml.g4dn.2xlarge",
    "vcpuNum": 8
   },
   {
    "_defaultOrder": 31,
    "_isFastLaunch": false,
    "category": "Accelerated computing",
    "gpuNum": 1,
    "hideHardwareSpecs": false,
    "memoryGiB": 64,
    "name": "ml.g4dn.4xlarge",
    "vcpuNum": 16
   },
   {
    "_defaultOrder": 32,
    "_isFastLaunch": false,
    "category": "Accelerated computing",
    "gpuNum": 1,
    "hideHardwareSpecs": false,
    "memoryGiB": 128,
    "name": "ml.g4dn.8xlarge",
    "vcpuNum": 32
   },
   {
    "_defaultOrder": 33,
    "_isFastLaunch": false,
    "category": "Accelerated computing",
    "gpuNum": 4,
    "hideHardwareSpecs": false,
    "memoryGiB": 192,
    "name": "ml.g4dn.12xlarge",
    "vcpuNum": 48
   },
   {
    "_defaultOrder": 34,
    "_isFastLaunch": false,
    "category": "Accelerated computing",
    "gpuNum": 1,
    "hideHardwareSpecs": false,
    "memoryGiB": 256,
    "name": "ml.g4dn.16xlarge",
    "vcpuNum": 64
   },
   {
    "_defaultOrder": 35,
    "_isFastLaunch": false,
    "category": "Accelerated computing",
    "gpuNum": 1,
    "hideHardwareSpecs": false,
    "memoryGiB": 61,
    "name": "ml.p3.2xlarge",
    "vcpuNum": 8
   },
   {
    "_defaultOrder": 36,
    "_isFastLaunch": false,
    "category": "Accelerated computing",
    "gpuNum": 4,
    "hideHardwareSpecs": false,
    "memoryGiB": 244,
    "name": "ml.p3.8xlarge",
    "vcpuNum": 32
   },
   {
    "_defaultOrder": 37,
    "_isFastLaunch": false,
    "category": "Accelerated computing",
    "gpuNum": 8,
    "hideHardwareSpecs": false,
    "memoryGiB": 488,
    "name": "ml.p3.16xlarge",
    "vcpuNum": 64
   },
   {
    "_defaultOrder": 38,
    "_isFastLaunch": false,
    "category": "Accelerated computing",
    "gpuNum": 8,
    "hideHardwareSpecs": false,
    "memoryGiB": 768,
    "name": "ml.p3dn.24xlarge",
    "vcpuNum": 96
   },
   {
    "_defaultOrder": 39,
    "_isFastLaunch": false,
    "category": "Memory Optimized",
    "gpuNum": 0,
    "hideHardwareSpecs": false,
    "memoryGiB": 16,
    "name": "ml.r5.large",
    "vcpuNum": 2
   },
   {
    "_defaultOrder": 40,
    "_isFastLaunch": false,
    "category": "Memory Optimized",
    "gpuNum": 0,
    "hideHardwareSpecs": false,
    "memoryGiB": 32,
    "name": "ml.r5.xlarge",
    "vcpuNum": 4
   },
   {
    "_defaultOrder": 41,
    "_isFastLaunch": false,
    "category": "Memory Optimized",
    "gpuNum": 0,
    "hideHardwareSpecs": false,
    "memoryGiB": 64,
    "name": "ml.r5.2xlarge",
    "vcpuNum": 8
   },
   {
    "_defaultOrder": 42,
    "_isFastLaunch": false,
    "category": "Memory Optimized",
    "gpuNum": 0,
    "hideHardwareSpecs": false,
    "memoryGiB": 128,
    "name": "ml.r5.4xlarge",
    "vcpuNum": 16
   },
   {
    "_defaultOrder": 43,
    "_isFastLaunch": false,
    "category": "Memory Optimized",
    "gpuNum": 0,
    "hideHardwareSpecs": false,
    "memoryGiB": 256,
    "name": "ml.r5.8xlarge",
    "vcpuNum": 32
   },
   {
    "_defaultOrder": 44,
    "_isFastLaunch": false,
    "category": "Memory Optimized",
    "gpuNum": 0,
    "hideHardwareSpecs": false,
    "memoryGiB": 384,
    "name": "ml.r5.12xlarge",
    "vcpuNum": 48
   },
   {
    "_defaultOrder": 45,
    "_isFastLaunch": false,
    "category": "Memory Optimized",
    "gpuNum": 0,
    "hideHardwareSpecs": false,
    "memoryGiB": 512,
    "name": "ml.r5.16xlarge",
    "vcpuNum": 64
   },
   {
    "_defaultOrder": 46,
    "_isFastLaunch": false,
    "category": "Memory Optimized",
    "gpuNum": 0,
    "hideHardwareSpecs": false,
    "memoryGiB": 768,
    "name": "ml.r5.24xlarge",
    "vcpuNum": 96
   },
   {
    "_defaultOrder": 47,
    "_isFastLaunch": false,
    "category": "Accelerated computing",
    "gpuNum": 1,
    "hideHardwareSpecs": false,
    "memoryGiB": 16,
    "name": "ml.g5.xlarge",
    "vcpuNum": 4
   },
   {
    "_defaultOrder": 48,
    "_isFastLaunch": false,
    "category": "Accelerated computing",
    "gpuNum": 1,
    "hideHardwareSpecs": false,
    "memoryGiB": 32,
    "name": "ml.g5.2xlarge",
    "vcpuNum": 8
   },
   {
    "_defaultOrder": 49,
    "_isFastLaunch": false,
    "category": "Accelerated computing",
    "gpuNum": 1,
    "hideHardwareSpecs": false,
    "memoryGiB": 64,
    "name": "ml.g5.4xlarge",
    "vcpuNum": 16
   },
   {
    "_defaultOrder": 50,
    "_isFastLaunch": false,
    "category": "Accelerated computing",
    "gpuNum": 1,
    "hideHardwareSpecs": false,
    "memoryGiB": 128,
    "name": "ml.g5.8xlarge",
    "vcpuNum": 32
   },
   {
    "_defaultOrder": 51,
    "_isFastLaunch": false,
    "category": "Accelerated computing",
    "gpuNum": 1,
    "hideHardwareSpecs": false,
    "memoryGiB": 256,
    "name": "ml.g5.16xlarge",
    "vcpuNum": 64
   },
   {
    "_defaultOrder": 52,
    "_isFastLaunch": false,
    "category": "Accelerated computing",
    "gpuNum": 4,
    "hideHardwareSpecs": false,
    "memoryGiB": 192,
    "name": "ml.g5.12xlarge",
    "vcpuNum": 48
   },
   {
    "_defaultOrder": 53,
    "_isFastLaunch": false,
    "category": "Accelerated computing",
    "gpuNum": 4,
    "hideHardwareSpecs": false,
    "memoryGiB": 384,
    "name": "ml.g5.24xlarge",
    "vcpuNum": 96
   },
   {
    "_defaultOrder": 54,
    "_isFastLaunch": false,
    "category": "Accelerated computing",
    "gpuNum": 8,
    "hideHardwareSpecs": false,
    "memoryGiB": 768,
    "name": "ml.g5.48xlarge",
    "vcpuNum": 192
   }
  ],
  "instance_type": "ml.t3.medium",
  "kernelspec": {
   "display_name": "Python 3 (Data Science)",
   "language": "python",
   "name": "python3__SAGEMAKER_INTERNAL__arn:aws:sagemaker:us-east-1:081325390199:image/datascience-1.0"
  },
  "language_info": {
   "codemirror_mode": {
    "name": "ipython",
    "version": 3
   },
   "file_extension": ".py",
   "mimetype": "text/x-python",
   "name": "python",
   "nbconvert_exporter": "python",
   "pygments_lexer": "ipython3",
   "version": "3.7.10"
  }
 },
 "nbformat": 4,
 "nbformat_minor": 4
}
